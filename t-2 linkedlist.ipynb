{
 "cells": [
  {
   "cell_type": "markdown",
   "id": "71b8ce91",
   "metadata": {},
   "source": [
    "# Linkedlist "
   ]
  },
  {
   "cell_type": "markdown",
   "id": "7fd2b3fb",
   "metadata": {},
   "source": []
  },
  {
   "cell_type": "code",
   "execution_count": null,
   "id": "29069a97",
   "metadata": {},
   "outputs": [],
   "source": [
    "# linkedlist\n",
    "class Node:\n",
    "    def __init__(self, data):\n",
    "        self.data = data\n",
    "        self.next = None\n",
    "        self.prev = None\n",
    "class LinkedList:\n",
    "    def __init__(self):\n",
    "        self.head = None\n",
    "        self.tail = None\n",
    "\n",
    "    def append(self, data):\n",
    "        new_node = Node(data)\n",
    "        if not self.head:\n",
    "            self.head = new_node\n",
    "            self.tail = new_node\n",
    "        else:\n",
    "            self.tail.next = new_node\n",
    "            new_node.prev = self.tail\n",
    "            self.tail = new_node\n",
    "\n",
    "    def prepend(self, data):\n",
    "        new_node = Node(data)\n",
    "        if not self.head:\n",
    "            self.head = new_node\n",
    "            self.tail = new_node\n",
    "        else:\n",
    "            new_node.next = self.head\n",
    "            self.head.prev = new_node\n",
    "            self.head = new_node\n",
    "\n",
    "    def delete(self, key):\n",
    "        current = self.head\n",
    "        while current:\n",
    "            if current.data == key:\n",
    "                if current.prev:\n",
    "                    current.prev.next = current.next\n",
    "                if current.next:\n",
    "                    current.next.prev = current.prev\n",
    "                if current == self.head:  # Move head if needed\n",
    "                    self.head = current.next\n",
    "                if current == self.tail:  # Move tail if needed\n",
    "                    self.tail = current.prev\n",
    "                return\n",
    "            current = current.next\n",
    "\n",
    "    def display(self):\n",
    "        elements = []\n",
    "        current = self.head\n",
    "        while current:\n",
    "            elements.append(current.data)\n",
    "            current = current.next\n",
    "        return elements"
   ]
  },
  {
   "cell_type": "code",
   "execution_count": null,
   "id": "d83edf85",
   "metadata": {},
   "outputs": [
    {
     "name": "stdout",
     "output_type": "stream",
     "text": [
      "534--->453--->453--->543--->\n"
     ]
    }
   ],
   "source": [
    "## first practice\n",
    "\n",
    "class Node:\n",
    "    def __init__(self, data=None, next=None): # this is constructor \n",
    "        self.data=data\n",
    "        self.next=next\n",
    "class Linkedlist:\n",
    "    def __init__(self):\n",
    "        self.head=None\n",
    "    def insert_big(self, data):## this for insert in the start\n",
    "        node=Node(data, self.head)\n",
    "        self.head=node\n",
    "    def insertatend(self, data):## insert at the end\n",
    "        if self.head is None:\n",
    "            self.head=Node(data, None)\n",
    "            return\n",
    "        itr=self.head\n",
    "        while itr.next:\n",
    "            itr= itr.next\n",
    "        itr.next=Node(data, None)\n",
    "\n",
    "    \n",
    "    def print(self):## this is for printing the entire list\n",
    "        if self.head is None:\n",
    "            print(\"linkedlist is empty\")\n",
    "            return\n",
    "        itr=self.head\n",
    "        llstr=\"\"\n",
    "        while itr:\n",
    "            llstr+=str(itr.data)+'--->'\n",
    "            itr=itr.next\n",
    "\n",
    "        print(llstr)\n",
    "\n",
    "\n",
    "ll=Linkedlist()\n",
    "ll.insert_big(453)\n",
    "ll.insert_big(534)\n",
    "ll.insertatend(453)\n",
    "ll.insertatend(543)\n",
    "ll.print()\n",
    "\n"
   ]
  },
  {
   "cell_type": "code",
   "execution_count": 27,
   "id": "93cacf74",
   "metadata": {},
   "outputs": [
    {
     "name": "stdout",
     "output_type": "stream",
     "text": [
      "534---->453---->354---->\n"
     ]
    }
   ],
   "source": [
    "## second practice\n",
    "\n",
    "class Node:\n",
    "    def __init__(self, data=None, next=None):\n",
    "        self.data=data\n",
    "        self.next=next\n",
    "class Linkedlistfinal:\n",
    "    def __init__(self):\n",
    "        self.head=None\n",
    "    def insert_bigin(self, data):\n",
    "        node=Node(data,self.head)\n",
    "        self.head=node\n",
    "    def insertend(self, data):\n",
    "        if self.head is None:\n",
    "            self.head=Node(data, None)\n",
    "            return\n",
    "        itr=self.head\n",
    "        while itr.next:\n",
    "            itr=itr.next\n",
    "        itr.next=Node(data, None)\n",
    "    \n",
    "    def print(self):\n",
    "        if self.head is None:\n",
    "            return 'list is empty'\n",
    "        itr=self.head\n",
    "        llstr=''\n",
    "        while itr:\n",
    "            llstr+=str(itr.data)+'---->'\n",
    "            itr=itr.next\n",
    "        print(llstr)\n",
    "lls=Linkedlistfinal()\n",
    "lls.insert_bigin(453)\n",
    "lls.insert_bigin(534)\n",
    "lls.insertend(354)\n",
    "lls.print()"
   ]
  },
  {
   "cell_type": "code",
   "execution_count": null,
   "id": "85ee5064",
   "metadata": {},
   "outputs": [
    {
     "name": "stdout",
     "output_type": "stream",
     "text": [
      "534--->453--->354--->\n"
     ]
    }
   ],
   "source": [
    "## third practice\n",
    "\n",
    "\n",
    "class Node:\n",
    "    def __init__(self, data=None, next=None):\n",
    "        self.data=data\n",
    "        self.next=next\n",
    "class Linkedlistfinalp:\n",
    "    def __init__(self):\n",
    "        self.head=None\n",
    "    def insertbig(self, data):\n",
    "        node=Node(data, self.head)\n",
    "        self.head=node\n",
    "    def insertatend(self, data):\n",
    "        if self.head is None:\n",
    "            node=Node(data,None)\n",
    "            self.head=node\n",
    "        itr=self.head\n",
    "        while itr.next:\n",
    "            itr=itr.next\n",
    "        itr.next=Node(data,None)\n",
    "\n",
    "\n",
    "    def print(self):\n",
    "        if self.head is None:\n",
    "            return 'list is empty'\n",
    "        itr=self.head\n",
    "        llstr=''\n",
    "        while itr:\n",
    "            llstr+=str(itr.data)+'--->'\n",
    "            itr=itr.next\n",
    "        print(llstr)\n",
    "finaltest=Linkedlistfinalp()\n",
    "finaltest.insertbig(453)\n",
    "finaltest.insertbig(534)\n",
    "finaltest.insertatend(354)\n",
    "finaltest.insertbig(354)\n",
    "\n",
    "finaltest.print()\n",
    "        "
   ]
  },
  {
   "cell_type": "code",
   "execution_count": 32,
   "id": "10dbc1d0",
   "metadata": {},
   "outputs": [
    {
     "name": "stdout",
     "output_type": "stream",
     "text": [
      "543---->45322---->4530---->453---->\n"
     ]
    }
   ],
   "source": [
    "## forth practice\n",
    "class Node:\n",
    "    def __init__(self, data=None, next=None):\n",
    "        self.data=data \n",
    "        self.next=next \n",
    "class linkedlists:\n",
    "    def __init__(self):\n",
    "        self.head=None\n",
    "    def insertatbig(self, data):\n",
    "        node=Node(data,self.head)\n",
    "        self.head=node\n",
    "    def insertatend(self, data):\n",
    "        if self.head is None:\n",
    "            node=Node(data, None)\n",
    "            self.head=node\n",
    "        itr=self.head\n",
    "        while itr.next:\n",
    "            itr=itr.next\n",
    "        itr.next=Node(data, None)\n",
    "\n",
    "    def print(self):\n",
    "        if self.head is None:\n",
    "            return 'list is empty'\n",
    "        itr=self.head\n",
    "        llstr=''\n",
    "        while itr:\n",
    "            llstr+=str(itr.data)+'---->'\n",
    "            itr=itr.next\n",
    "        print(llstr)\n",
    "\n",
    "lla=linkedlists()\n",
    "lla.insertatbig(4530)\n",
    "lla.insertatbig(45322)\n",
    "lla.insertatbig(543)\n",
    "lla.insertatend(453)\n",
    "lla.print()\n"
   ]
  },
  {
   "cell_type": "code",
   "execution_count": 33,
   "id": "8bd35e1d",
   "metadata": {},
   "outputs": [
    {
     "name": "stdout",
     "output_type": "stream",
     "text": [
      "534----))))453----))))4563----))))\n"
     ]
    }
   ],
   "source": [
    "# fifth practice\n",
    "class Node:\n",
    "    def __init__(self,data=None, next=None):\n",
    "        self.data=data\n",
    "        self.next=next\n",
    "class linkedlisttt:\n",
    "    def __init__(self):\n",
    "        self.head=None\n",
    "    def insertbig(self, data):\n",
    "        node=Node(data , self.head)\n",
    "        self.head=node\n",
    "    def insertend(self, data):\n",
    "        if self.head is None:\n",
    "            node=Node(data, None)\n",
    "            self.head=node\n",
    "        itr=self.head\n",
    "        while itr.next:\n",
    "            itr=itr.next\n",
    "        itr.next=Node(data, None)\n",
    "    def print(self):\n",
    "        if self.head is None:\n",
    "            return 'the list is empty'\n",
    "        llstr=''\n",
    "        itr=self.head\n",
    "        while itr:\n",
    "            llstr+=str(itr.data)+'----))))'\n",
    "            itr=itr.next\n",
    "        print(llstr)\n",
    "kka=linkedlisttt()\n",
    "kka.insertbig(453)\n",
    "kka.insertbig(534)\n",
    "kka.insertend(4563)\n",
    "kka.print()\n",
    "\n"
   ]
  },
  {
   "cell_type": "code",
   "execution_count": null,
   "id": "676c11c9",
   "metadata": {},
   "outputs": [
    {
     "name": "stdout",
     "output_type": "stream",
     "text": [
      "354---))4530---))453---))\n"
     ]
    }
   ],
   "source": []
  },
  {
   "cell_type": "code",
   "execution_count": 56,
   "id": "65bd0950",
   "metadata": {},
   "outputs": [
    {
     "data": {
      "text/plain": [
       "'2---->6---->3---->5---->'"
      ]
     },
     "execution_count": 56,
     "metadata": {},
     "output_type": "execute_result"
    }
   ],
   "source": [
    "## final complete example\n",
    "class Node:\n",
    "    def __init__(self, data=None, next=None):\n",
    "        self.data=data \n",
    "        self.next=next\n",
    "\n",
    "class linkedlist:\n",
    "    def __init__(self):\n",
    "        self.head=None\n",
    "\n",
    "    def insertatbig(self,data):\n",
    "        node=Node(data, self.head)\n",
    "        self.head=node\n",
    "\n",
    "    def insertatend(self, data):\n",
    "        if self.head is None:\n",
    "            node=Node(data, None)\n",
    "            self.head=node\n",
    "            return\n",
    "        itr=self.head\n",
    "        while itr.next:\n",
    "            itr=itr.next\n",
    "        itr.next=Node(data, None)\n",
    "        itr=itr.next\n",
    "    def lengthoflist(self):\n",
    "        count=0\n",
    "        itr=self.head\n",
    "        while itr:\n",
    "            itr=itr.next\n",
    "            count+=1\n",
    "        return count\n",
    "    def insertatpos(self, index, data):\n",
    "        length=self.lengthoflist()\n",
    "        if index<0 or index>length:\n",
    "            raise Exception('invalid index to insert element')\n",
    "        if index==0:\n",
    "            self.insertatbig(data)\n",
    "            return\n",
    "        if index==length:\n",
    "            self.insertatend(data)\n",
    "            return\n",
    "        itr=self.head\n",
    "        count=0\n",
    "        while itr:\n",
    "            if count==index-1:\n",
    "                node=Node(data, itr.next)\n",
    "                itr.next=node\n",
    "                break\n",
    "            count+=1\n",
    "            itr=itr.next\n",
    "    def removeatpos(self, index):\n",
    "        if index<0 or index>self.lengthoflist():\n",
    "            raise Exception('invalid index')\n",
    "        if index==0:\n",
    "            self.head=self.head.next\n",
    "            return\n",
    "        \n",
    "        \n",
    "        count=0\n",
    "\n",
    "        itr=self.head\n",
    "        while itr:\n",
    "            if count==index-1:\n",
    "                itr.next=itr.next.next\n",
    "                break\n",
    "            count+=1\n",
    "            itr=itr.next\n",
    "        \n",
    "\n",
    "        \n",
    "\n",
    "\n",
    "    def print(self):\n",
    "        if self.head is None:\n",
    "            return 'empty list'\n",
    "        itr=self.head\n",
    "        llstr=''\n",
    "        while itr:\n",
    "            llstr+=str(itr.data)+'---->'\n",
    "            itr=itr.next\n",
    "        return llstr\n",
    "\n",
    "lla=linkedlist()\n",
    "lla.insertatbig(1)\n",
    "lla.insertatbig(2)\n",
    "lla.insertatend(3)\n",
    "lla.insertatend(4)\n",
    "lla.print()\n",
    "lla.lengthoflist()\n",
    "lla.insertatpos(4,5)\n",
    "lla.insertatpos(1,6)\n",
    "lla.print()\n",
    "lla.print()\n",
    "lla.removeatpos(2)\n",
    "lla.removeatpos(3)\n",
    "lla.print()"
   ]
  },
  {
   "cell_type": "code",
   "execution_count": 60,
   "id": "91747b67",
   "metadata": {},
   "outputs": [
    {
     "data": {
      "text/plain": [
       "2"
      ]
     },
     "execution_count": 60,
     "metadata": {},
     "output_type": "execute_result"
    }
   ],
   "source": [
    "re=5//2\n",
    "re"
   ]
  },
  {
   "cell_type": "code",
   "execution_count": null,
   "id": "324a4a00",
   "metadata": {},
   "outputs": [],
   "source": []
  }
 ],
 "metadata": {
  "kernelspec": {
   "display_name": "Python 3",
   "language": "python",
   "name": "python3"
  },
  "language_info": {
   "codemirror_mode": {
    "name": "ipython",
    "version": 3
   },
   "file_extension": ".py",
   "mimetype": "text/x-python",
   "name": "python",
   "nbconvert_exporter": "python",
   "pygments_lexer": "ipython3",
   "version": "3.12.2"
  }
 },
 "nbformat": 4,
 "nbformat_minor": 5
}
