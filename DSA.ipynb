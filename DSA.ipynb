{
 "cells": [
  {
   "cell_type": "markdown",
   "id": "7a4370eb",
   "metadata": {},
   "source": [
    "Here’s a complete step-by-step explanation of Quick Sort with Python implementation, designed for better understanding from scratch.\n",
    "\n",
    "✅ What is Quick Sort?\n",
    "Quick Sort is a divide-and-conquer algorithm that:\n",
    "\n",
    "Selects a \"pivot\" element from the array.\n",
    "\n",
    "Partitions the array into two sub-arrays:\n",
    "\n",
    "Elements less than the pivot.\n",
    "\n",
    "Elements greater than the pivot.\n",
    "\n",
    "Recursively sorts the sub-arrays.\n",
    "\n",
    "🔢 Python Implementation (with step-by-step comments):\n",
    "python\n",
    "Copy\n",
    "Edit\n",
    "def quick_sort(arr):\n",
    "    # Base case: If the list has 0 or 1 element, it is already sorted\n",
    "    if len(arr) <= 1:\n",
    "        return arr\n",
    "\n",
    "    # Step 1: Choose a pivot (here, we choose the last element)\n",
    "    pivot = arr[-1]\n",
    "\n",
    "    # Step 2: Create two sub-lists\n",
    "    left = []   # All elements < pivot\n",
    "    right = []  # All elements >= pivot\n",
    "\n",
    "    # Step 3: Partition the array (excluding the pivot)\n",
    "    for i in range(len(arr) - 1):\n",
    "        if arr[i] < pivot:\n",
    "            left.append(arr[i])   # Put in left list\n",
    "        else:\n",
    "            right.append(arr[i])  # Put in right list\n",
    "\n",
    "    # Step 4: Recursively sort left and right, then combine\n",
    "    return quick_sort(left) + [pivot] + quick_sort(right)\n",
    "📌 Step-by-Step Explanation\n",
    "Let's say:\n",
    "\n",
    "python\n",
    "Copy\n",
    "Edit\n",
    "arr = [7, 2, 1, 6, 8, 5, 3, 4]\n",
    "➤ First call:\n",
    "Pivot = 4\n",
    "\n",
    "Left: [2, 1, 3]\n",
    "\n",
    "Right: [7, 6, 8, 5]\n",
    "\n",
    "Now recursively sort left and right.\n",
    "\n",
    "➤ Left Subarray: [2, 1, 3]\n",
    "Pivot = 3\n",
    "\n",
    "Left: [2, 1]\n",
    "\n",
    "Right: []\n",
    "\n",
    "Now sort [2, 1]\n",
    "\n",
    "➤ [2, 1]\n",
    "Pivot = 1\n",
    "\n",
    "Left: []\n",
    "\n",
    "Right: [2]\n",
    "→ Sorted: [1, 2]\n",
    "\n",
    "Now combine:\n",
    "\n",
    "[1, 2] + [3] = [1, 2, 3]\n",
    "\n",
    "➤ Right Subarray: [7, 6, 8, 5]\n",
    "Pivot = 5\n",
    "\n",
    "Left: []\n",
    "\n",
    "Right: [7, 6, 8]\n",
    "\n",
    "Sort [7, 6, 8]\n",
    "\n",
    "➤ [7, 6, 8]\n",
    "Pivot = 8\n",
    "\n",
    "Left: [7, 6]\n",
    "\n",
    "Right: []\n",
    "\n",
    "Sort [7, 6]\n",
    "\n",
    "➤ [7, 6]\n",
    "Pivot = 6\n",
    "\n",
    "Left: []\n",
    "\n",
    "Right: [7]\n",
    "→ Sorted: [6, 7]\n",
    "\n",
    "Now combine:\n",
    "\n",
    "[6, 7] + [8] = [6, 7, 8]\n",
    "\n",
    "Now combine full right side:\n",
    "\n",
    "[5] + [6, 7, 8] = [5, 6, 7, 8]\n",
    "\n",
    "✅ Final Combined Result:\n",
    "Left part: [1, 2, 3]\n",
    "\n",
    "Pivot: [4]\n",
    "\n",
    "Right part: [5, 6, 7, 8]\n",
    "\n",
    "python\n",
    "Copy\n",
    "Edit\n",
    "Final sorted array = [1, 2, 3, 4, 5, 6, 7, 8]\n",
    "⏱️ Time Complexity\n",
    "Average case: O(n log n)\n",
    "\n",
    "Worst case: O(n²) (if pivot always smallest/largest)\n",
    "\n",
    "Best case: O(n log n)}"
   ]
  },
  {
   "cell_type": "code",
   "execution_count": 3,
   "id": "eeabbb29",
   "metadata": {},
   "outputs": [
    {
     "data": {
      "text/plain": [
       "[2, 2, 5, 11, 11, 33]"
      ]
     },
     "execution_count": 3,
     "metadata": {},
     "output_type": "execute_result"
    }
   ],
   "source": [
    "## quick sort\n",
    "def quick_sort(arr):\n",
    "    # Base case: If the list has 0 or 1 element, it is already sorted\n",
    "    if len(arr) <= 1:\n",
    "        return arr\n",
    "\n",
    "    # Step 1: Choose a pivot (here, we choose the last element)\n",
    "    pivot = arr[-1]\n",
    "\n",
    "    # Step 2: Create two sub-lists\n",
    "    left = []   # All elements < pivot\n",
    "    right = []  # All elements >= pivot\n",
    "\n",
    "    # Step 3: Partition the array (excluding the pivot)\n",
    "    for i in range(len(arr) - 1):\n",
    "        if arr[i] < pivot:\n",
    "            left.append(arr[i])   # Put in left list\n",
    "        else:\n",
    "            right.append(arr[i])  # Put in right list\n",
    "\n",
    "    # Step 4: Recursively sort left and right, then combine\n",
    "    return quick_sort(left) + [pivot] + quick_sort(right)\n",
    "\n",
    "arr=[11,2,5,11,2,33]\n",
    "quick_sort(arr)"
   ]
  },
  {
   "cell_type": "code",
   "execution_count": 5,
   "id": "0821a4db",
   "metadata": {},
   "outputs": [
    {
     "data": {
      "text/plain": [
       "[2, 2, 5, 11, 11, 33]"
      ]
     },
     "execution_count": 5,
     "metadata": {},
     "output_type": "execute_result"
    }
   ],
   "source": [
    "def qicksort(arr):\n",
    "    if len(arr)<=1:\n",
    "        return arr\n",
    "    pivot=arr[-1]\n",
    "    left=[]\n",
    "    right=[]\n",
    "    for i in range(len(arr)-1):\n",
    "        if arr[i]< pivot:\n",
    "            left.append(arr[i])\n",
    "        else:\n",
    "            right.append(arr[i])\n",
    "    return qicksort(left) + [pivot]  +qicksort(right)\n",
    "\n",
    "\n",
    "\n",
    "arr=[11,2,5,11,2,33]\n",
    "qicksort(arr)"
   ]
  },
  {
   "cell_type": "code",
   "execution_count": null,
   "id": "5dbb52f2",
   "metadata": {},
   "outputs": [],
   "source": [
    "## what is the purpose of capacitor?\n",
    "# Capacitors are passive electronic components that store and release electrical energy. They are used in various applications, including filtering, energy storage, and timing circuits. Capacitors can smooth out voltage fluctuations, block DC while allowing AC signals to pass, and provide temporary power during brief interruptions."
   ]
  },
  {
   "cell_type": "code",
   "execution_count": 9,
   "id": "05b18b87",
   "metadata": {},
   "outputs": [
    {
     "data": {
      "text/plain": [
       "[2, 2, 5, 11, 11, 33]"
      ]
     },
     "execution_count": 9,
     "metadata": {},
     "output_type": "execute_result"
    }
   ],
   "source": [
    "def qick(arr):\n",
    "    if len(arr)<=1:\n",
    "        return arr\n",
    "    left=[]\n",
    "    right=[]\n",
    "\n",
    "    pivot=arr[-1]\n",
    "    for i in range(len(arr)-1):\n",
    "        if arr[i]> pivot:\n",
    "            right.append(arr[i])\n",
    "        else:\n",
    "            left.append(arr[i])\n",
    "    return qick(left) +[pivot]+ qick(right)\n",
    "\n",
    "arr=[11,2,5,11,2,33]\n",
    "qick(arr)"
   ]
  },
  {
   "cell_type": "code",
   "execution_count": 1,
   "id": "c4baf3ac",
   "metadata": {},
   "outputs": [
    {
     "data": {
      "text/plain": [
       "[11, 12, 22, 25, 64]"
      ]
     },
     "execution_count": 1,
     "metadata": {},
     "output_type": "execute_result"
    }
   ],
   "source": [
    "## selection sort\n",
    "def selection_sort(arr):\n",
    "    n = len(arr)\n",
    "    for i in range(n):\n",
    "        # Assume the minimum is the first element\n",
    "        min_index = i\n",
    "        # Find the minimum element in remaining unsorted array\n",
    "        for j in range(i + 1, n):\n",
    "            if arr[j] < arr[min_index]:\n",
    "                min_index = j\n",
    "        # Swap the found minimum element with the first element\n",
    "        arr[i], arr[min_index] = arr[min_index], arr[i]\n",
    "\n",
    "    return arr\n",
    "arr = [64, 25, 12, 22, 11]\n",
    "selection_sort(arr)"
   ]
  },
  {
   "cell_type": "code",
   "execution_count": 1,
   "id": "bcd6afc4",
   "metadata": {},
   "outputs": [
    {
     "data": {
      "text/plain": [
       "[2, 3, 4, 23, 34, 43, 44, 234, 453, 534]"
      ]
     },
     "execution_count": 1,
     "metadata": {},
     "output_type": "execute_result"
    }
   ],
   "source": [
    "## merge sort \n",
    "\n",
    "def divcon(arr):\n",
    "    if len(arr)<=1:\n",
    "        return arr\n",
    "    mid=len(arr)//2\n",
    "    left=divcon(arr[:mid])\n",
    "    right=divcon(arr[mid:])\n",
    "    return merge(left, right)\n",
    "def merge(left, right):\n",
    "    i=0\n",
    "    j=0\n",
    "    result=[]\n",
    "    while len(left)>i and len(right)>j:\n",
    "        if left[i]>right[j]:\n",
    "            result.append(right[j])\n",
    "            j+=1\n",
    "        else:\n",
    "            result.append(left[i])\n",
    "            i+=1\n",
    "    result.extend(left[i:])\n",
    "    result.extend(right[j:])\n",
    "    return result\n",
    "arr=[23,44,2,3,34,234,4,43,453,534]\n",
    "divcon(arr)\n",
    "\n"
   ]
  },
  {
   "cell_type": "code",
   "execution_count": 2,
   "id": "6d9e2073",
   "metadata": {},
   "outputs": [
    {
     "data": {
      "text/plain": [
       "[11, 12, 22, 25, 34, 64, 90]"
      ]
     },
     "execution_count": 2,
     "metadata": {},
     "output_type": "execute_result"
    }
   ],
   "source": [
    "# bubble sort\n",
    "def bubble_sort(arr):\n",
    "    n = len(arr)\n",
    "    # Traverse through all array elements\n",
    "    for i in range(n):\n",
    "        # Last i elements are already sorted\n",
    "        for j in range(0, n-i-1):\n",
    "            # Traverse the array from 0 to n-i-1\n",
    "            # Swap if the element found is greater than the next element\n",
    "            if arr[j] > arr[j+1]:\n",
    "                arr[j], arr[j+1] = arr[j+1], arr[j]\n",
    "    return arr\n",
    "arr = [64, 34, 25, 12, 22, 11, 90]\n",
    "bubble_sort(arr)\n"
   ]
  },
  {
   "cell_type": "code",
   "execution_count": null,
   "id": "14e9dedc",
   "metadata": {},
   "outputs": [],
   "source": []
  },
  {
   "cell_type": "code",
   "execution_count": 3,
   "id": "b4360c04",
   "metadata": {},
   "outputs": [
    {
     "data": {
      "text/plain": [
       "[5, 6, 11, 12, 13]"
      ]
     },
     "execution_count": 3,
     "metadata": {},
     "output_type": "execute_result"
    }
   ],
   "source": [
    "## insersion sort\n",
    "def insertion_sort(arr):\n",
    "    # Traverse through 1 to len(arr)\n",
    "    for i in range(1, len(arr)):\n",
    "        key = arr[i]\n",
    "        j = i-1\n",
    "        # Move elements of arr[0..i-1], that are greater than key,\n",
    "        # to one position ahead of their current position\n",
    "        while j >= 0 and key < arr[j]:\n",
    "            arr[j + 1] = arr[j]\n",
    "            j -= 1\n",
    "        arr[j + 1] = key\n",
    "    return arr\n",
    "arr = [12, 11, 13, 5, 6]\n",
    "insertion_sort(arr)"
   ]
  },
  {
   "cell_type": "code",
   "execution_count": null,
   "id": "8c23247c",
   "metadata": {},
   "outputs": [],
   "source": []
  }
 ],
 "metadata": {
  "kernelspec": {
   "display_name": "Python 3",
   "language": "python",
   "name": "python3"
  },
  "language_info": {
   "codemirror_mode": {
    "name": "ipython",
    "version": 3
   },
   "file_extension": ".py",
   "mimetype": "text/x-python",
   "name": "python",
   "nbconvert_exporter": "python",
   "pygments_lexer": "ipython3",
   "version": "3.12.2"
  }
 },
 "nbformat": 4,
 "nbformat_minor": 5
}
