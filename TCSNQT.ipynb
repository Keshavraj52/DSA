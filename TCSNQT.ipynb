{
 "cells": [
  {
   "cell_type": "markdown",
   "id": "bd9fc4e2",
   "metadata": {},
   "source": [
    "A chocolate factory is packing chocolates into the packets. The chocolate packets here represent an array  of N number of integer values. The task is to find the empty packets(0) of chocolate and push it to the end of the conveyor belt(array).\n",
    "\n",
    "Example 1 :\n",
    "\n",
    "N=8 and arr = [4,5,0,1,9,0,5,0].\n",
    "\n",
    "There are 3 empty packets in the given set. These 3 empty packets represented as O should be pushed towards the end of the array\n",
    "\n",
    "Input :\n",
    "\n",
    "8  – Value of N\n",
    "\n",
    "[4,5,0,1,9,0,5,0] – Element of arr[O] to arr[N-1],While input each element is separated by newline\n",
    "\n",
    "Output:\n",
    "\n",
    "4 5 1 9 5 0 0 0\n",
    "\n",
    "Example 2:\n",
    "\n",
    "Input:\n",
    "\n",
    "6 — Value of N.\n",
    "\n",
    "[6,0,1,8,0,2] – Element of arr[0] to arr[N-1], While input each element is separated by newline\n",
    "\n",
    "Output:\n",
    "\n",
    "6 1 8 2 0 0"
   ]
  },
  {
   "cell_type": "code",
   "execution_count": 6,
   "id": "a7234cbf",
   "metadata": {},
   "outputs": [
    {
     "name": "stdout",
     "output_type": "stream",
     "text": [
      "[6, 1, 8, 2, 0, 0]\n"
     ]
    }
   ],
   "source": [
    "def all_zero_to_corner(s):\n",
    "    count=0\n",
    "    for i in range(len(s)):\n",
    "        if s[i]!=0:\n",
    "            s[count]=s[i]\n",
    "            count+=1\n",
    "    while count<len(s):\n",
    "        s[count]=0\n",
    "        count+=1\n",
    "    return s\n",
    "s=[6,0,1,8,0,2]\n",
    "Result=all_zero_to_corner(s)\n",
    "\n",
    "\n",
    "print(Result)"
   ]
  },
  {
   "cell_type": "code",
   "execution_count": null,
   "id": "3bc41f5c",
   "metadata": {},
   "outputs": [
    {
     "name": "stdout",
     "output_type": "stream",
     "text": [
      "[6, 1, 8, 2, 0, 0]\n",
      "None\n"
     ]
    }
   ],
   "source": [
    "def all_zeroend(s):\n",
    "    listitem=[]\n",
    "    zero_count=0\n",
    "    for i in s:\n",
    "        if i!=0:\n",
    "            listitem.append(i)\n",
    "        else:\n",
    "            zero_count+=1\n",
    "    listitem.extend([0]*zero_count)\n",
    "    print(listitem)\n",
    "vs=[6,0,1,8,0,2]\n",
    "Result=all_zeroend(vs)\n",
    "\n",
    "print(Result)"
   ]
  },
  {
   "cell_type": "markdown",
   "id": "eac7c18e",
   "metadata": {},
   "source": [
    "Problem Statement –\n",
    "\n",
    "Joseph is learning digital logic subject which will be for his next semester. He usually tries to solve unit assignment problems before the lecture. Today he got one tricky question. The problem statement is “A positive integer has been given as an input. Convert decimal value to binary representation. Toggle all bits of it after the most significant bit including the most significant bit. Print the positive integer value after toggling all bits”.\n",
    "\n",
    "Constrains-\n",
    "\n",
    "1<=N<=100\n",
    "\n",
    "Example 1:\n",
    "\n",
    "Input :\n",
    "\n",
    "10  -> Integer\n",
    "\n",
    "Output :\n",
    "\n",
    "5    -> result- Integer\n",
    "\n",
    "Explanation:\n",
    "\n",
    "Binary representation of 10 is 1010. After toggling the bits(1010), will get 0101 which represents “5”. Hence output will print “5”."
   ]
  },
  {
   "cell_type": "code",
   "execution_count": 6,
   "id": "218e5909",
   "metadata": {},
   "outputs": [
    {
     "data": {
      "text/plain": [
       "(5, 15)"
      ]
     },
     "execution_count": 6,
     "metadata": {},
     "output_type": "execute_result"
    }
   ],
   "source": [
    "def bit_tog(num):\n",
    "    num_bits=num.bit_length()\n",
    "    mask=(1<<num_bits)-1\n",
    "    toggle=num^mask\n",
    "    return toggle, mask\n",
    "d=10\n",
    "bit_tog(d)\n"
   ]
  },
  {
   "cell_type": "markdown",
   "id": "cf9bc8a7",
   "metadata": {},
   "source": [
    "Jack is always excited about sunday. It is favourite day, when he gets to play all day. And goes to cycling with his friends. \n",
    "\n",
    "So every time when the months starts he counts the number of sundays he will get to enjoy. Considering the month can start with any day, be it Sunday, Monday…. Or so on.\n",
    "\n",
    "Count the number of Sunday jack will get within n number of days.\n",
    "\n",
    " Example 1:\n",
    "\n",
    "Input \n",
    "\n",
    "mon-> input String denoting the start of the month.\n",
    "\n",
    "13  -> input integer denoting the number of days from the start of the month.\n",
    "\n",
    "Output :\n",
    "\n",
    "2    -> number of days within 13 days.\n",
    "\n",
    "Explanation:\n",
    "\n",
    "The month start with mon(Monday). So the upcoming sunday will arrive in next 6 days. And then next Sunday in next 7 days and so on.\n",
    "\n",
    "Now total number of days are 13. It means 6 days to first sunday and then remaining 7 days will end up in another sunday. Total 2 sundays may fall within 13 days."
   ]
  },
  {
   "cell_type": "code",
   "execution_count": null,
   "id": "a02c44e9",
   "metadata": {},
   "outputs": [
    {
     "name": "stdout",
     "output_type": "stream",
     "text": [
      "0\n"
     ]
    },
    {
     "data": {
      "text/plain": [
       "3"
      ]
     },
     "execution_count": 30,
     "metadata": {},
     "output_type": "execute_result"
    }
   ],
   "source": [
    "def cunt_sun(day,n):\n",
    "    days_of_week = [\"sun\", \"mon\", \"tue\", \"wed\", \"thu\", \"fri\", \"sat\"]\n",
    "    start_day=days_of_week.index(day.lower())\n",
    "    first_sun=(7-start_day)% 7\n",
    "    if n<first_sun:\n",
    "        return 0\n",
    "    print(first_sun)\n",
    "    remaining_day=n-first_sun\n",
    "    return 1+(remaining_day//7)\n",
    "\n",
    "cunt_sun(\"sun\",15)"
   ]
  },
  {
   "cell_type": "code",
   "execution_count": null,
   "id": "1e19db40",
   "metadata": {},
   "outputs": [
    {
     "name": "stdout",
     "output_type": "stream",
     "text": [
      "5\n"
     ]
    }
   ],
   "source": []
  },
  {
   "cell_type": "markdown",
   "id": "183802aa",
   "metadata": {},
   "source": []
  },
  {
   "cell_type": "code",
   "execution_count": 3,
   "id": "ea5482d3",
   "metadata": {},
   "outputs": [
    {
     "data": {
      "text/plain": [
       "3"
      ]
     },
     "execution_count": 3,
     "metadata": {},
     "output_type": "execute_result"
    }
   ],
   "source": [
    "def count_mon(day,n):\n",
    "        days_of_week = [\"mon\", \"tue\", \"wed\", \"thu\", \"fri\", \"sat\",\"sun\" ]\n",
    "        start_day=days_of_week.index(day.lower())\n",
    "        firstrepeat=(7-start_day)%7\n",
    "        if n<firstrepeat:\n",
    "                return 0\n",
    "        remains=n-firstrepeat\n",
    "        return (remains//7)+1\n",
    "\n",
    "count_mon(\"mon\",15)\n"
   ]
  },
  {
   "cell_type": "markdown",
   "id": "5e912c42",
   "metadata": {},
   "source": [
    "Alice challenged Bob to write the same word as his on a typewriter. Both are kids and are making some mistakes in typing and are making use of the ‘#’ key on a typewriter to delete the last character printed on it. An empty text remains empty even after backspaces. \n",
    "\n",
    "Input Format\n",
    "The first line contains a string typed by Bob.\n",
    "\n",
    "The second line contains a string typed by Alice.\n",
    "\n",
    "Output Format\n",
    "The first line contains ‘YES’ if Alice is able to print the exact words as Bob, otherwise ‘NO’.\n",
    "\n",
    "Constraints\n",
    "1 <= Bob.length\n",
    "\n",
    "Alice.length <= 100000\n",
    "\n",
    "Bob and Alice only contain lowercase letters and '#' characters."
   ]
  },
  {
   "cell_type": "code",
   "execution_count": null,
   "id": "4bc58957",
   "metadata": {},
   "outputs": [
    {
     "data": {
      "text/plain": [
       "'YES'"
      ]
     },
     "execution_count": 3,
     "metadata": {},
     "output_type": "execute_result"
    }
   ],
   "source": [
    "def str_check(alice,bob):\n",
    "    bob_up=[]\n",
    "    count=0\n",
    "    for i in bob:\n",
    "        if i == \"#\":\n",
    "            bob_up.pop()\n",
    "            count+=1\n",
    "        else:\n",
    "            bob_up.append(i)\n",
    "    bob_up=''.join(bob_up)\n",
    "\n",
    "    if bob_up==alice:\n",
    "        return \"YES\"\n",
    "    else:\n",
    "        return \"NO\", count\n",
    "alice=\"asjkdb\"\n",
    "bob=\"ass#jj#kdb\"\n",
    "str_check(alice,bob)\n",
    "\n"
   ]
  },
  {
   "cell_type": "code",
   "execution_count": null,
   "id": "2e3cdb12",
   "metadata": {},
   "outputs": [],
   "source": [
    "## logest substring which sum is less than equal to k\n",
    "def long_sug(n,k):\n",
    "    maxlen=0\n",
    "    for i in range(len(n)):\n",
    "        sum=0\n",
    "        for j in range(i,len(n)):\n",
    "            sum=sum + n[j]\n",
    "            if sum<=k:\n",
    "                maxlen=max(maxlen,j-i+1)\n",
    "            else:\n",
    "                break\n",
    "    return maxlen\n",
    "\n",
    "n=[2,5,1,7,10,1,2,3,4,5,6,1,1,1,1,1,1,1,1]\n",
    "k=14\n",
    "Result=long_sug(n,k)\n",
    "print(Result)\n"
   ]
  },
  {
   "cell_type": "code",
   "execution_count": 10,
   "id": "682bc4f0",
   "metadata": {},
   "outputs": [],
   "source": [
    "def long_sug(n, k):\n",
    "    left = 0\n",
    "    curr_sum = 0\n",
    "    maxlen = 0\n",
    "\n",
    "    for right in range(len(n)):\n",
    "        curr_sum += n[right]\n",
    "        while curr_sum > k:\n",
    "            curr_sum -= n[left]\n",
    "            left += 1\n",
    "        maxlen = max(maxlen, right - left + 1)\n",
    "\n",
    "    return maxlen"
   ]
  },
  {
   "cell_type": "code",
   "execution_count": 10,
   "id": "10aeeedf",
   "metadata": {},
   "outputs": [
    {
     "name": "stdout",
     "output_type": "stream",
     "text": [
      "4\n"
     ]
    }
   ],
   "source": [
    "def long_sub(n,k):\n",
    "    left=0\n",
    "    curr_sum=0\n",
    "    maxlen=0\n",
    "    right=0\n",
    "    while right<len(n):\n",
    "        curr_sum=curr_sum+n[right]\n",
    "        if curr_sum>k:\n",
    "            curr_sum=curr_sum-n[right]\n",
    "            left+=1\n",
    "\n",
    "        if curr_sum<=k:\n",
    "            maxlen=max(maxlen,right-left+1)\n",
    "            right+=1\n",
    "        \n",
    "    return maxlen\n",
    "\n",
    "\n",
    "n=[1,2,3,33,32,23,34,66,75,423]\n",
    "k=33\n",
    "Result=long_sub(n,k)\n",
    "print(Result)\n",
    "\n"
   ]
  },
  {
   "cell_type": "code",
   "execution_count": 6,
   "id": "052abb6f",
   "metadata": {},
   "outputs": [
    {
     "name": "stdout",
     "output_type": "stream",
     "text": [
      "64\n"
     ]
    }
   ],
   "source": [
    "# fining the maxsum from the corner of the array\n",
    "\n",
    "\n",
    "def maxsum(n,k):\n",
    "    left=0\n",
    "    right=k+1\n",
    "    max_sum=0\n",
    "    while right!=-2:\n",
    "        temp=0\n",
    "        for i in range(left,right):\n",
    "            temp=temp+n[i]\n",
    "        if temp>max_sum:\n",
    "            max_sum=temp\n",
    "        left-=1\n",
    "        right-=1\n",
    "    return max_sum\n",
    "\n",
    "n=[1,1,1,3,5,2,44,2,5,13]\n",
    "k=3\n",
    "Result=maxsum(n,k)\n",
    "print(Result)"
   ]
  },
  {
   "cell_type": "code",
   "execution_count": null,
   "id": "068c0ddb",
   "metadata": {},
   "outputs": [
    {
     "data": {
      "text/plain": [
       "120"
      ]
     },
     "execution_count": 1,
     "metadata": {},
     "output_type": "execute_result"
    }
   ],
   "source": [
    "def fibonacci(n):\n",
    "    if n == 0:\n",
    "        return 0\n",
    "    if n == 1:\n",
    "        return 1\n",
    "    return fibonacci(n - 1) + fibonacci(n - 2)\n",
    "\n",
    "fibonacci(6)"
   ]
  },
  {
   "cell_type": "code",
   "execution_count": 5,
   "id": "62a19451",
   "metadata": {},
   "outputs": [
    {
     "data": {
      "text/plain": [
       "8"
      ]
     },
     "execution_count": 5,
     "metadata": {},
     "output_type": "execute_result"
    }
   ],
   "source": [
    "def fabonacci(n):\n",
    "    if n==0:\n",
    "        return 0\n",
    "    if n==1:\n",
    "        return 1\n",
    "    return fabonacci(n-1)+fabonacci(n-2)\n",
    "fabonacci(6)"
   ]
  },
  {
   "cell_type": "code",
   "execution_count": 4,
   "id": "1071fcb0",
   "metadata": {},
   "outputs": [
    {
     "data": {
      "text/plain": [
       "720"
      ]
     },
     "execution_count": 4,
     "metadata": {},
     "output_type": "execute_result"
    }
   ],
   "source": [
    "# factorial\n",
    "def factorial(n):\n",
    "    if n==0 or n==1:\n",
    "        return 1\n",
    "    return n*factorial(n-1)\n",
    "\n",
    "factorial(6)"
   ]
  },
  {
   "cell_type": "code",
   "execution_count": null,
   "id": "8b4dc146",
   "metadata": {},
   "outputs": [
    {
     "data": {
      "text/plain": [
       "598"
      ]
     },
     "execution_count": 12,
     "metadata": {},
     "output_type": "execute_result"
    }
   ],
   "source": [
    "\n",
    "def maxsum(n,k):\n",
    "    left=0\n",
    "    right=k+1\n",
    "    maxsum=0\n",
    "    while right!=-2:\n",
    "        tempsum=0\n",
    "        for i in range(left ,right):\n",
    "            tempsum=tempsum+n[i]\n",
    "        if tempsum>maxsum:\n",
    "    \n",
    "            maxsum=tempsum\n",
    "        left-=1\n",
    "        right-=1\n",
    "    return maxsum\n",
    "n=[1,2,3,33,32,23,34,66,75,423]\n",
    "k=3\n",
    "maxsum(n,k)\n",
    "        \n"
   ]
  },
  {
   "cell_type": "code",
   "execution_count": 2,
   "id": "c9a23b4b",
   "metadata": {},
   "outputs": [
    {
     "data": {
      "text/plain": [
       "5"
      ]
     },
     "execution_count": 2,
     "metadata": {},
     "output_type": "execute_result"
    }
   ],
   "source": [
    "## maxlen that has the fixed sum \n",
    "\n",
    "def maxlensub(n,k):\n",
    "    right=0\n",
    "    left=0\n",
    "    maxlen=0\n",
    "    cur_sum=0\n",
    "    while right<len(n):\n",
    "        cur_sum=cur_sum+n[right]\n",
    "        if cur_sum<=k:\n",
    "            maxlen=max(maxlen,right-left+1)\n",
    "            right+=1\n",
    "        if cur_sum>k:\n",
    "            cur_sum=cur_sum-n[right]\n",
    "            left+=1\n",
    "        right+=1\n",
    "    return maxlen\n",
    "n=[1,100, 2,3,33,32,23,34,66,75,423]\n",
    "k=33\n",
    "maxlensub(n,k)\n",
    "\n",
    "\n"
   ]
  },
  {
   "cell_type": "code",
   "execution_count": 3,
   "id": "d115e221",
   "metadata": {},
   "outputs": [
    {
     "data": {
      "text/plain": [
       "(85, 52)"
      ]
     },
     "execution_count": 3,
     "metadata": {},
     "output_type": "execute_result"
    }
   ],
   "source": [
    "#### important very\n",
    "\n",
    "def secmaxi(n):\n",
    "    maximum, secmax=float('-inf'),float('-inf')\n",
    "    minimum, secmin=float('inf'),float('inf')\n",
    "\n",
    "    for i in n:\n",
    "        if maximum<i:\n",
    "            maximum=i\n",
    "        if secmax<i and maximum>i:\n",
    "            secmax=i\n",
    "        if minimum>i:\n",
    "            minimum=i\n",
    "        if secmin>i and minimum<i:\n",
    "            secmin=i\n",
    "    return secmax if secmax!=float('-inf') else -1, secmin if secmin!=float('inf') else -1\n",
    "n=[]\n",
    "f=list(map(int, input(\"Enter numbers separated by space: \").split()))\n",
    "secmaxi(f)"
   ]
  },
  {
   "cell_type": "code",
   "execution_count": 14,
   "id": "fe7908fb",
   "metadata": {},
   "outputs": [
    {
     "name": "stdout",
     "output_type": "stream",
     "text": [
      "(0, [0, 7, 7])\n"
     ]
    }
   ],
   "source": [
    "\n",
    "\n",
    "class Solution(object):\n",
    "    def secondHighest(self, s):\n",
    "        arr=[ch for ch in s if ch.isdigit()]\n",
    "        arrr = [int(x) for x in arr]\n",
    "        maxi,secmaxi=0,0\n",
    "        for i in arrr:\n",
    "            if i>maxi:\n",
    "                maxi=i\n",
    "            if i>secmaxi and i!=maxi:\n",
    "                secmaxi=i \n",
    "        return int(secmaxi) if secmaxi !=float('-inf') else -1, arrr\n",
    "\n",
    "s = \"ck077\"\n",
    "sol = Solution()\n",
    "result = sol.secondHighest(s)\n",
    "print(result)  # Output: 7\n",
    "        \n",
    "    "
   ]
  },
  {
   "cell_type": "code",
   "execution_count": 15,
   "id": "a6a4e176",
   "metadata": {},
   "outputs": [
    {
     "name": "stdout",
     "output_type": "stream",
     "text": [
      "0\n"
     ]
    }
   ],
   "source": [
    "class Solution:\n",
    "    def secondHighest(self, s: str) -> int:\n",
    "        # Use a set to store unique digits\n",
    "        digits = set()\n",
    "        \n",
    "        # Extract digits from the string\n",
    "        for char in s:\n",
    "            if char.isdigit():\n",
    "                digits.add(int(char))\n",
    "        \n",
    "        # If less than 2 unique digits, return -1\n",
    "        if len(digits) < 2:\n",
    "            return -1\n",
    "        \n",
    "        # Remove the largest digit\n",
    "        largest = max(digits)\n",
    "        digits.remove(largest)\n",
    "        \n",
    "        # Return the second largest digit\n",
    "        return max(digits)\n",
    "    \n",
    "s = \"ck077\"\n",
    "sol = Solution()\n",
    "result = sol.secondHighest(s)\n",
    "print(result)  # Output: 7"
   ]
  },
  {
   "cell_type": "code",
   "execution_count": null,
   "id": "c034d1a6",
   "metadata": {},
   "outputs": [
    {
     "name": "stdout",
     "output_type": "stream",
     "text": [
      "[5, 4, 22, 55, 55, 5, 1, 5, 2, 1]\n"
     ]
    }
   ],
   "source": [
    "f=[1,2,5,1,5,55,55,22,4,5]\n",
    "start=0\n",
    "end=len(f)-1\n",
    "\n",
    "while start<=end:\n",
    "    f[start],f[end]=f[end],f[start]\n",
    "    start+=1\n",
    "    end-=1\n",
    "\n",
    "print(f)"
   ]
  },
  {
   "cell_type": "code",
   "execution_count": null,
   "id": "d5b46321",
   "metadata": {},
   "outputs": [],
   "source": [
    "def sfsd(s):\n",
    "    for i in range(len(s)):\n",
    "        count=1\n",
    "        for j in range(i+1,len(s)):\n",
    "            if s[i]==s[j]:\n",
    "                count+=1"
   ]
  },
  {
   "cell_type": "code",
   "execution_count": null,
   "id": "eb09faef",
   "metadata": {},
   "outputs": [
    {
     "name": "stdout",
     "output_type": "stream",
     "text": [
      "3\n",
      "6\n",
      "1\n"
     ]
    }
   ],
   "source": [
    "from collections import defaultdict\n",
    "\n",
    "def getfrq(arr):\n",
    "    store=defaultdict(int)\n",
    "    for num in arr:\n",
    "        store[num]+=1\n",
    "    for key,val in store.items():\n",
    "        if val==1:\n",
    "            print(key)\n",
    "\n",
    "\n",
    "getfrq([10,10,2,3,2,6,2,1,2,2])"
   ]
  },
  {
   "cell_type": "code",
   "execution_count": 2,
   "id": "42e7e0bc",
   "metadata": {},
   "outputs": [
    {
     "data": {
      "text/plain": [
       "[1, 2, 3, 6, 10]"
      ]
     },
     "execution_count": 2,
     "metadata": {},
     "output_type": "execute_result"
    }
   ],
   "source": [
    "## if order not matters\n",
    "\n",
    "def rem_dup(n):\n",
    "    seet=set()\n",
    "    for i in n:\n",
    "        seet.add(i)\n",
    "    return list(seet)\n",
    "\n",
    "n=[10,10,2,3,2,6,2,1,2,2]\n",
    "\n",
    "rem_dup(n)"
   ]
  },
  {
   "cell_type": "code",
   "execution_count": null,
   "id": "730aefb9",
   "metadata": {},
   "outputs": [
    {
     "data": {
      "text/plain": [
       "[10, 2, 3, 6, 1]"
      ]
     },
     "execution_count": 3,
     "metadata": {},
     "output_type": "execute_result"
    }
   ],
   "source": [
    "## if order matters\n",
    "def rem_dupli(n):\n",
    "    unique=[]\n",
    "    for i in n:\n",
    "        if i not in unique:\n",
    "            unique.append(i)\n",
    "    return unique\n",
    "\n",
    "n=[10,10,2,3,2,6,2,1,2,2]\n",
    "\n",
    "rem_dupli(n)"
   ]
  },
  {
   "cell_type": "code",
   "execution_count": null,
   "id": "2c7df574",
   "metadata": {},
   "outputs": [
    {
     "data": {
      "text/plain": [
       "[1, 2, 3, 5, 6, 5, 5, 6, 6, 6]"
      ]
     },
     "execution_count": 10,
     "metadata": {},
     "output_type": "execute_result"
    }
   ],
   "source": [
    "def rem_dup(n):\n",
    "    i=0\n",
    "    for j in range(1,len(n)):\n",
    "        if n[i]!=n[j]:\n",
    "            i+=1\n",
    "            n[i]=n[j]\n",
    "    return n[:i+1]\n",
    "rem_dup([1,2,2,3,3,5,5,6,6,6])"
   ]
  },
  {
   "cell_type": "code",
   "execution_count": 19,
   "id": "fa1db555",
   "metadata": {},
   "outputs": [
    {
     "data": {
      "text/plain": [
       "40320"
      ]
     },
     "execution_count": 19,
     "metadata": {},
     "output_type": "execute_result"
    }
   ],
   "source": [
    "def solve(n):\n",
    "    maxpro = 0\n",
    "    sufix, prefix = 1, 1\n",
    "    for i in range(len(n)):\n",
    "        if n[i] == n[len(n)-i-1] and n[i] == 0:\n",
    "            sufix, prefix = 1, 1\n",
    "        else:\n",
    "            prefix *= n[i]\n",
    "            sufix *= n[len(n)-i-1]\n",
    "        maxpro = max(maxpro, max(prefix, sufix))\n",
    "    return maxpro\n",
    "\n",
    "n = [1, 2, 3, -4, -5, 6, 7, 8, -9]\n",
    "solve(n)"
   ]
  },
  {
   "cell_type": "markdown",
   "id": "ba614ed2",
   "metadata": {},
   "source": []
  },
  {
   "cell_type": "code",
   "execution_count": 25,
   "id": "4b5804bc",
   "metadata": {},
   "outputs": [
    {
     "name": "stdout",
     "output_type": "stream",
     "text": [
      "(2, 1) "
     ]
    }
   ],
   "source": [
    "def solve(n):\n",
    "    store=set()\n",
    "    for i in n:\n",
    "        first,secon=i\n",
    "        if (secon, first) in store:\n",
    "            print((first, secon), end=\" \")\n",
    "        store.add((first, secon))\n",
    "\n",
    "n= [(1, 2), (2, 1), (3, 4), (1, 3), (5, 6), (6, 7), (7, 8), (8, 9)]\n",
    "solve(n)\n",
    "\n",
    "\n"
   ]
  },
  {
   "cell_type": "code",
   "execution_count": 31,
   "id": "47755784",
   "metadata": {},
   "outputs": [
    {
     "name": "stdout",
     "output_type": "stream",
     "text": [
      "1: 3\n",
      "44: 3\n",
      "5: 2\n",
      "3: 2\n",
      "33: 2\n",
      "55: 2\n",
      "22: 2\n",
      "2: 1\n",
      "23: 1\n",
      "453: 1\n",
      "534: 1\n"
     ]
    }
   ],
   "source": [
    "def solve(n):\n",
    "    freq = {}\n",
    "    for item in n:\n",
    "        freq[item] = freq.get(item, 0) + 1\n",
    "\n",
    "    # Filter repeated and sort\n",
    "    repeated = [(k, v) for k, v in freq.items() if v >= 1]\n",
    "    repeated.sort(key=lambda x: x[1], reverse=True)\n",
    "\n",
    "    for item, count in repeated:\n",
    "        print(f\"{item}: {count}\")\n",
    "\n",
    "n=[1,2,5,1,23,3,5,3,33,33,44,44,55,22,44,22,55,1,453,534]\n",
    "solve(n)"
   ]
  },
  {
   "cell_type": "code",
   "execution_count": null,
   "id": "c9a184a8",
   "metadata": {},
   "outputs": [
    {
     "name": "stdout",
     "output_type": "stream",
     "text": [
      "0\n"
     ]
    }
   ],
   "source": [
    "\n",
    "class solution(object):\n",
    "    def secondhighest(self,s: str)->int:\n",
    "        num=set()\n",
    "        for char in s:\n",
    "            if char.isdigit():\n",
    "                char=int(char)\n",
    "                num.add(char)\n",
    "        large=max(num)\n",
    "        num.remove(large)\n",
    "        \n",
    "\n",
    "        return max(num)\n",
    "\n",
    "s = \"ck077\"\n",
    "sol = solution()\n",
    "result = sol.secondhighest(s)\n",
    "print(result) "
   ]
  },
  {
   "cell_type": "code",
   "execution_count": 5,
   "id": "3274abc9",
   "metadata": {},
   "outputs": [
    {
     "name": "stdout",
     "output_type": "stream",
     "text": [
      "4\n"
     ]
    }
   ],
   "source": [
    "n=1<<2\n",
    "print(n)"
   ]
  },
  {
   "cell_type": "code",
   "execution_count": null,
   "id": "39d8b826",
   "metadata": {},
   "outputs": [
    {
     "data": {
      "text/plain": [
       "[[], [1], [5], [1, 5], [5], [1, 5], [5, 5], [1, 5, 5]]"
      ]
     },
     "execution_count": 16,
     "metadata": {},
     "output_type": "execute_result"
    }
   ],
   "source": [
    "def subset(n):\n",
    "    sub=[]\n",
    "    for i in range(1<<len(n)):\n",
    "        emp=[]\n",
    "        for j in range(len(n)):\n",
    "            if i&(1<<j):\n",
    "                emp.append(n[j])\n",
    "        sub.append(emp)\n",
    "    return sub\n",
    "n=[1,5,5]\n",
    "subset(n)\n",
    "\n"
   ]
  },
  {
   "cell_type": "code",
   "execution_count": 33,
   "id": "2789ebf4",
   "metadata": {},
   "outputs": [
    {
     "data": {
      "text/plain": [
       "8"
      ]
     },
     "execution_count": 33,
     "metadata": {},
     "output_type": "execute_result"
    }
   ],
   "source": [
    "from collections import defaultdict\n",
    "def unique(n):\n",
    "    dec=defaultdict(int)\n",
    "    for i in n:\n",
    "        dec[i]+=1\n",
    "    for key, val in dec.items():\n",
    "        if val==1:\n",
    "            print(key)\n",
    "    return dec\n",
    "def une(n):\n",
    "    xor=0\n",
    "    for i in n:\n",
    "        xor=xor^i\n",
    "    return xor\n",
    "\n",
    "\n",
    "n=[4,5,4,5,8]\n",
    "une(n)"
   ]
  },
  {
   "cell_type": "code",
   "execution_count": 37,
   "id": "8a7d9d52",
   "metadata": {},
   "outputs": [
    {
     "data": {
      "text/plain": [
       "defaultdict(int, {1: 3, 32: 1, 2: 3, 3: 3, 4: 1, 5: 1})"
      ]
     },
     "execution_count": 37,
     "metadata": {},
     "output_type": "execute_result"
    }
   ],
   "source": [
    "def sub(n):\n",
    "    sb=defaultdict(int)\n",
    "    for i in n:\n",
    "        sb[i]+=1\n",
    "    return sb\n",
    "n=[1,1,1,32,2,3,3,3,2,2,4,5]\n",
    "sub(n)"
   ]
  },
  {
   "cell_type": "code",
   "execution_count": null,
   "id": "98f12c0d",
   "metadata": {},
   "outputs": [
    {
     "name": "stdout",
     "output_type": "stream",
     "text": [
      "120\n"
     ]
    }
   ],
   "source": [
    "def ton(n):\n",
    "    if n==0 or n==1:\n",
    "        return 1\n",
    "    return n * ton(n-1)\n",
    "\n",
    "    \n",
    "print(ton(5))"
   ]
  },
  {
   "cell_type": "code",
   "execution_count": 15,
   "id": "c97c7d0b",
   "metadata": {},
   "outputs": [
    {
     "name": "stdout",
     "output_type": "stream",
     "text": [
      "12586269025\n"
     ]
    }
   ],
   "source": [
    "memo = {}\n",
    "\n",
    "def fib(n):\n",
    "    if n in memo:\n",
    "        return memo[n]\n",
    "    if n <= 1:\n",
    "        return n\n",
    "    memo[n] = fib(n - 1) + fib(n - 2)\n",
    "    return memo[n]\n",
    "\n",
    "print(fib(50))  \n"
   ]
  },
  {
   "cell_type": "code",
   "execution_count": 20,
   "id": "f154eb11",
   "metadata": {},
   "outputs": [
    {
     "data": {
      "text/plain": [
       "5"
      ]
     },
     "execution_count": 20,
     "metadata": {},
     "output_type": "execute_result"
    }
   ],
   "source": [
    "def fibn(n):\n",
    "    if n==0:\n",
    "        return 0\n",
    "    if n==1:\n",
    "        return 1\n",
    "    series= fibn(n-1)+fib(n-2)\n",
    "    return series\n",
    "fibn(5)# 0 1 1 2 3 5 8"
   ]
  },
  {
   "cell_type": "code",
   "execution_count": 21,
   "id": "0fcc45d2",
   "metadata": {},
   "outputs": [
    {
     "name": "stdout",
     "output_type": "stream",
     "text": [
      "Sorted array: [3, 9, 10, 27, 38, 43, 82]\n"
     ]
    }
   ],
   "source": [
    "def merge_sort(arr):\n",
    "    # Base case: if the array has 1 or 0 elements, it's already sorted\n",
    "    if len(arr) <= 1:\n",
    "        return arr\n",
    "\n",
    "    # Find the middle index to split the array into two halves\n",
    "    mid = len(arr) // 2\n",
    "\n",
    "    # Recursively sort the left half of the array\n",
    "    left_half = merge_sort(arr[:mid])\n",
    "\n",
    "    # Recursively sort the right half of the array\n",
    "    right_half = merge_sort(arr[mid:])\n",
    "\n",
    "    # Merge the two sorted halves and return the result\n",
    "    return merge(left_half, right_half)\n",
    "\n",
    "\n",
    "def merge(left, right):\n",
    "    result = []  # This will store the merged sorted list\n",
    "    i = 0  # Pointer for the left list\n",
    "    j = 0  # Pointer for the right list\n",
    "\n",
    "    # Compare elements from both lists and add the smaller one to result\n",
    "    while i < len(left) and j < len(right):\n",
    "        if left[i] < right[j]:\n",
    "            result.append(left[i])  # Add the smaller element\n",
    "            i += 1  # Move pointer in the left list\n",
    "        else:\n",
    "            result.append(right[j])  # Add the smaller element\n",
    "            j += 1  # Move pointer in the right list\n",
    "\n",
    "    # If there are remaining elements in the left list, add them all\n",
    "    result.extend(left[i:])\n",
    "\n",
    "    # If there are remaining elements in the right list, add them all\n",
    "    result.extend(right[j:])\n",
    "\n",
    "    return result  # Return the final merged sorted list\n",
    "\n",
    "\n",
    "# Example usage\n",
    "arr = [38, 27, 43, 3, 9, 82, 10]  # Unsorted array\n",
    "sorted_arr = merge_sort(arr)  # Call merge_sort to sort it\n",
    "print(\"Sorted array:\", sorted_arr)  # Print the result\n"
   ]
  },
  {
   "cell_type": "code",
   "execution_count": 7,
   "id": "2d0edfb0",
   "metadata": {},
   "outputs": [
    {
     "name": "stdout",
     "output_type": "stream",
     "text": [
      "Sorted array: [1, 1, 21, 21, 22, 44, 44, 112]\n"
     ]
    }
   ],
   "source": [
    "def sortedl(arr):\n",
    "    if len(arr)<=1:\n",
    "        return arr\n",
    "    \n",
    "    mid=len(arr)//2\n",
    "    lefthalf=sortedl(arr[:mid])\n",
    "    righthalf=sortedl(arr[mid:])\n",
    "    return merge(lefthalf,righthalf)\n",
    "\n",
    "def merge(left,right):\n",
    "    result=[]\n",
    "    i=0\n",
    "    j=0\n",
    "    while i< len(left) and j < len(right):\n",
    "        if left[i]<right[j]:\n",
    "            result.append(left[i])\n",
    "            i+=1\n",
    "        else:\n",
    "            result.append(right[j])\n",
    "            j+=1\n",
    "            \n",
    "    result.extend(left[i:])\n",
    "    result.extend(right[j:])\n",
    "    return result\n",
    "arr =[1,21,44,22,112,21,44,1]  # Unsorted array\n",
    "sorted_arr = sortedl(arr)  # Call merge_sort to sort it\n",
    "print(\"Sorted array:\", sorted_arr)  # Print the result\n",
    "\n"
   ]
  },
  {
   "cell_type": "code",
   "execution_count": 29,
   "id": "6716e510",
   "metadata": {},
   "outputs": [
    {
     "name": "stdout",
     "output_type": "stream",
     "text": [
      "Sorted array: [3, 9, 38, 27, 43, 82, 10]\n"
     ]
    }
   ],
   "source": [
    "def divmerge(arr):\n",
    "\tif len(arr)<=1:\n",
    "\t\treturn arr\n",
    "\tmid=len(arr)//2\n",
    "\tleft=arr[:mid]\n",
    "\tright=arr[mid:]\n",
    "\treturn merge(left,right)\n",
    "\n",
    "def merge(left, right):\n",
    "\tresult=[]\n",
    "\ti=0\n",
    "\tj=0\n",
    "\twhile len(left)>i and len(right)>j:\n",
    "\t\tif left[i]<right[j]:\n",
    "\t\t\tresult.append(left[i])\n",
    "\t\t\ti+=1\n",
    "\t\telse:\n",
    "\t\t\tresult.append(right[j])\n",
    "\t\t\tj+=1\n",
    "\tresult.extend(left[i:])\n",
    "\tresult.extend(right[j:])\n",
    "\treturn result\n",
    "arr = [38, 27, 43, 3, 9, 82, 10]  # Unsorted array\n",
    "sorted_arr = divmerge(arr)  # Call merge_sort to sort it\n",
    "print(\"Sorted array:\", sorted_arr)  # Print the result\n",
    "\n"
   ]
  },
  {
   "cell_type": "code",
   "execution_count": 2,
   "id": "5a7618d4",
   "metadata": {},
   "outputs": [
    {
     "name": "stdout",
     "output_type": "stream",
     "text": [
      "1\n",
      "58\n",
      "66\n",
      "None\n"
     ]
    }
   ],
   "source": [
    "from collections import defaultdict\n",
    "def unique(arr):\n",
    "    defa=defaultdict(int)\n",
    "    for i in arr:\n",
    "        defa[i]+=1\n",
    "    for key, val in defa.items():\n",
    "        if val ==1:\n",
    "            print(key)\n",
    "            \n",
    "arr=[1,2,23,58,55,55,23,2,66]\n",
    "print(unique(arr))"
   ]
  },
  {
   "cell_type": "code",
   "execution_count": 4,
   "id": "ccbbd6f8",
   "metadata": {},
   "outputs": [
    {
     "name": "stdout",
     "output_type": "stream",
     "text": [
      "8\n"
     ]
    }
   ],
   "source": [
    "num=10\n",
    "result=(num&num-1)&num\n",
    "print(result)"
   ]
  },
  {
   "cell_type": "code",
   "execution_count": null,
   "id": "71605ce5",
   "metadata": {},
   "outputs": [
    {
     "data": {
      "text/plain": [
       "[5, 33]"
      ]
     },
     "execution_count": 5,
     "metadata": {},
     "output_type": "execute_result"
    }
   ],
   "source": [
    "## finding the two unique no from the list\n",
    "\n",
    "\n",
    "def findtwounique(arr):\n",
    "    xor=0\n",
    "    for i in arr:\n",
    "        xor=xor^i\n",
    "    right=(xor&xor-1)^xor\n",
    "    b1=0\n",
    "    b2=0\n",
    "\n",
    "    for i in range(len(arr)):\n",
    "        if arr[i] & right!=0 :\n",
    "            b1=b1^arr[i]\n",
    "        else:\n",
    "            b2=b2^arr[i]\n",
    "    return [b1, b2]\n",
    "        \n",
    "arr=[11,2,5,11,2,33]\n",
    "findtwounique(arr)"
   ]
  },
  {
   "cell_type": "code",
   "execution_count": null,
   "id": "0b7a9445",
   "metadata": {},
   "outputs": [
    {
     "data": {
      "text/plain": [
       "[5, 33]"
      ]
     },
     "execution_count": 7,
     "metadata": {},
     "output_type": "execute_result"
    }
   ],
   "source": [
    "def unique(arr):\n",
    "    xor=0\n",
    "    for i in arr:### this will do the bit  addition of the unique no like 14+4=10   1110+0100=1010\n",
    "\n",
    "        xor=xor^i\n",
    "    right=(xor&xor-1)^xor ## this will detect the first set bit of the calculated bit\n",
    "    ##basically we are trying to make a bucket and it will able to seperate the element \n",
    "    b1=0\n",
    "    b2=0## created the two buckets using this we will seperate the element\n",
    "    for i in range(len(arr)):\n",
    "        if arr[i]& right!=0: ## this will seperate the element which are non zero at perticular index\n",
    "            b1=b1^arr[i]\n",
    "        else:\n",
    "            b2=b2^arr[i]\n",
    "    return[b1,b2]\n",
    "\n",
    "arr=[11,2,5,11,2,33]\n",
    "unique(arr)\n",
    "\n",
    "   "
   ]
  },
  {
   "cell_type": "code",
   "execution_count": 1,
   "id": "9237a8da",
   "metadata": {},
   "outputs": [
    {
     "data": {
      "text/plain": [
       "[1, 1, 21, 21, 22, 44, 44, 112]"
      ]
     },
     "execution_count": 1,
     "metadata": {},
     "output_type": "execute_result"
    }
   ],
   "source": [
    "def sortdivconl(arr):\n",
    "    if len(arr)<=1:\n",
    "        return arr\n",
    "    mid=len(arr)//2\n",
    "    left=sortdivconl(arr[:mid])\n",
    "    right=sortdivconl(arr[mid:])\n",
    "    return merger(left, right)\n",
    "\n",
    "def merger(left, right):\n",
    "    result=[]\n",
    "    i=0\n",
    "    j=0\n",
    "    while i< len(left) and j< len(right):\n",
    "        if left[i]<right[j]:\n",
    "            result.append(left[i])\n",
    "            i+=1\n",
    "        else:\n",
    "            result.append(right[j])\n",
    "            j+=1\n",
    "    result.extend(left[i:])\n",
    "    result.extend(right[j:])\n",
    "    return result\n",
    "arr=[1,21,44,22,112,21,44,1]\n",
    "sortdivconl(arr)"
   ]
  },
  {
   "cell_type": "code",
   "execution_count": null,
   "id": "502b4d95",
   "metadata": {},
   "outputs": [
    {
     "data": {
      "text/plain": [
       "defaultdict(int, {'7L': 2, '7R': 3, '5L': 1, '6L': 1, '6R': 1})"
      ]
     },
     "execution_count": 7,
     "metadata": {},
     "output_type": "execute_result"
    }
   ],
   "source": [
    "## \n",
    "def pairfin(arr):\n",
    "    dec = defaultdict(int)\n",
    "    for i in arr:\n",
    "        dec[i] += 1\n",
    "    for key, val in dec.items():\n",
    "        if key[-1]\n",
    "\n",
    "    return dec\n",
    "\n",
    "\n",
    "arr=[\"7L\",\"7R\",\"5L\",\"7R\",\"6L\",\"7R\",\"7L\",\"6R\"]\n",
    "pairfin(arr)"
   ]
  },
  {
   "cell_type": "code",
   "execution_count": 10,
   "id": "dd54e99f",
   "metadata": {},
   "outputs": [
    {
     "name": "stdout",
     "output_type": "stream",
     "text": [
      "defaultdict(<function pairfin.<locals>.<lambda> at 0x000002360C0CEB60>, {'7': {'L': 2, 'R': 3}, '5': {'L': 1, 'R': 0}, '6': {'L': 1, 'R': 1}})\n",
      "7L-7R : 2 pair(s)\n",
      "6L-6R : 1 pair(s)\n",
      "Total pairs: 3\n"
     ]
    },
    {
     "data": {
      "text/plain": [
       "3"
      ]
     },
     "execution_count": 10,
     "metadata": {},
     "output_type": "execute_result"
    }
   ],
   "source": [
    "from collections import defaultdict\n",
    "\n",
    "def pairfin(arr):\n",
    "    dec = defaultdict(lambda: {'L': 0, 'R': 0})\n",
    "    \n",
    "    for item in arr:\n",
    "        size = item[:-1]   # number part, e.g., \"7\"\n",
    "        side = item[-1]    # 'L' or 'R'\n",
    "        dec[size][side] += 1\n",
    "    print(dec)\n",
    "    total_pairs = 0\n",
    "    for size in dec:\n",
    "        l_count = dec[size]['L']\n",
    "        r_count = dec[size]['R']\n",
    "        pairs = min(l_count, r_count)\n",
    "        if pairs > 0:\n",
    "            print(f\"{size}L-{size}R : {pairs} pair(s)\")\n",
    "        total_pairs += pairs\n",
    "\n",
    "    print(f\"Total pairs: {total_pairs}\")\n",
    "    return total_pairs\n",
    "\n",
    "# Example input\n",
    "arr = [\"7L\", \"7R\", \"5L\", \"7R\", \"6L\", \"7R\", \"7L\", \"6R\"]\n",
    "pairfin(arr)\n"
   ]
  },
  {
   "cell_type": "code",
   "execution_count": 15,
   "id": "0b1b6514",
   "metadata": {},
   "outputs": [
    {
     "name": "stdout",
     "output_type": "stream",
     "text": [
      "defaultdict(<function pairfind.<locals>.<lambda> at 0x000002360C4BAF20>, {'7': {'L': 2, 'R': 3}, '5': {'L': 1, 'R': 0}, '6': {'L': 1, 'R': 1}})\n"
     ]
    },
    {
     "data": {
      "text/plain": [
       "3"
      ]
     },
     "execution_count": 15,
     "metadata": {},
     "output_type": "execute_result"
    }
   ],
   "source": [
    "def pairfind(arr):\n",
    "    dec=defaultdict(lambda:{'L':0, 'R':0})\n",
    "    for i in arr:\n",
    "        size=i[:-1]\n",
    "        side=i[-1]\n",
    "        dec[size][side]+=1\n",
    "    print(dec)\n",
    "    totalpair=0\n",
    "    for size in dec:\n",
    "        lshoe=dec[size]['L']\n",
    "        rshoe=dec[size]['R']\n",
    "        totalpair+=min(lshoe,rshoe)\n",
    "    return totalpair\n",
    "arr = [\"7L\", \"7R\", \"5L\", \"7R\", \"6L\", \"7R\", \"7L\", \"6R\"]\n",
    "pairfind(arr)"
   ]
  },
  {
   "cell_type": "code",
   "execution_count": 19,
   "id": "8bccb2a4",
   "metadata": {},
   "outputs": [
    {
     "name": "stdout",
     "output_type": "stream",
     "text": [
      "3\n"
     ]
    }
   ],
   "source": [
    "from collections import defaultdict\n",
    "\n",
    "def findingpair(arr):\n",
    "    dec=defaultdict(lambda:{'L':0,'R':0})\n",
    "    for i in arr:\n",
    "        side=i[:-1]# number\n",
    "        size=i[-1] ## this is size\n",
    "        dec[side][size]+=1\n",
    "    totalpair=0\n",
    "    for size in dec:\n",
    "        lshoe=dec[size]['L']\n",
    "        rshoe=dec[size]['R']\n",
    "        totalpair+=min(lshoe, rshoe)\n",
    "    return totalpair\n",
    "arr = [\"7L\", \"7R\", \"5L\", \"7R\", \"6L\", \"7R\", \"7L\", \"6R\"]\n",
    "\n",
    "print(findingpair(arr))\n",
    "        "
   ]
  },
  {
   "cell_type": "code",
   "execution_count": null,
   "id": "d922c951",
   "metadata": {},
   "outputs": [],
   "source": []
  }
 ],
 "metadata": {
  "kernelspec": {
   "display_name": "Python 3",
   "language": "python",
   "name": "python3"
  },
  "language_info": {
   "codemirror_mode": {
    "name": "ipython",
    "version": 3
   },
   "file_extension": ".py",
   "mimetype": "text/x-python",
   "name": "python",
   "nbconvert_exporter": "python",
   "pygments_lexer": "ipython3",
   "version": "3.12.2"
  }
 },
 "nbformat": 4,
 "nbformat_minor": 5
}
