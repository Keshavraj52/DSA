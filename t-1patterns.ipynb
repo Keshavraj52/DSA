{
 "cells": [
  {
   "cell_type": "markdown",
   "id": "e63009bb",
   "metadata": {},
   "source": [
    "# * * * *\n",
    "# * * * *\n",
    "# * * * *\n",
    "# * * * *"
   ]
  },
  {
   "cell_type": "markdown",
   "id": "eb993e45",
   "metadata": {},
   "source": []
  },
  {
   "cell_type": "code",
   "execution_count": 1,
   "id": "ea0a541d",
   "metadata": {},
   "outputs": [
    {
     "name": "stdout",
     "output_type": "stream",
     "text": [
      "****\n",
      "****\n",
      "****\n",
      "****\n"
     ]
    }
   ],
   "source": [
    "n=int(input(\"enter no\"))\n",
    "for i in range(n):\n",
    "    print('*'*n)"
   ]
  },
  {
   "cell_type": "markdown",
   "id": "fdcec3bd",
   "metadata": {},
   "source": [
    "# *\n",
    "# * *\n",
    "# * * *\n",
    "# * * * *\n",
    "# * * * * *\n",
    "\n"
   ]
  },
  {
   "cell_type": "code",
   "execution_count": 2,
   "id": "db033891",
   "metadata": {},
   "outputs": [
    {
     "name": "stdout",
     "output_type": "stream",
     "text": [
      "*\n",
      "**\n",
      "***\n",
      "****\n",
      "*****\n"
     ]
    }
   ],
   "source": [
    "n=int(input(\"enter no\"))\n",
    "for i in range(1,n+1):\n",
    "    print('*'*i)"
   ]
  },
  {
   "cell_type": "code",
   "execution_count": 14,
   "id": "232f7ac4",
   "metadata": {},
   "outputs": [
    {
     "name": "stdout",
     "output_type": "stream",
     "text": [
      "1\n",
      "12\n",
      "123\n",
      "1234\n",
      "12345\n"
     ]
    }
   ],
   "source": [
    "n=int(input(\"enter no\"))\n",
    "for i in range(1,n+1):\n",
    "    num=''\n",
    "    for j in range(1,i+1):\n",
    "        num=num+f'{j}'\n",
    "    print(num)\n",
    "\n"
   ]
  },
  {
   "cell_type": "code",
   "execution_count": 18,
   "id": "7b78f8c0",
   "metadata": {},
   "outputs": [
    {
     "name": "stdout",
     "output_type": "stream",
     "text": [
      "1\n",
      "22\n",
      "333\n",
      "4444\n",
      "55555\n"
     ]
    }
   ],
   "source": [
    "n=int(input(\"enter no\"))\n",
    "for i in range(1,n+1):\n",
    "    print(f'{i}'*i)"
   ]
  },
  {
   "cell_type": "code",
   "execution_count": 20,
   "id": "4b007c9a",
   "metadata": {},
   "outputs": [
    {
     "name": "stdout",
     "output_type": "stream",
     "text": [
      "*****\n",
      "****\n",
      "***\n",
      "**\n",
      "*\n"
     ]
    }
   ],
   "source": [
    "n=int(input())\n",
    "for i in range(1, n+1):\n",
    "    print('*'*(n-(i-1)))"
   ]
  },
  {
   "cell_type": "code",
   "execution_count": 27,
   "id": "fa526de7",
   "metadata": {},
   "outputs": [
    {
     "name": "stdout",
     "output_type": "stream",
     "text": [
      "12345\n",
      "1234\n",
      "123\n",
      "12\n",
      "1\n"
     ]
    }
   ],
   "source": [
    "n=int(input())\n",
    "for i in range(n):\n",
    "    num=''\n",
    "    for j in range(1,n+1-i):\n",
    "        num=num+f'{j}'\n",
    "    print(num)"
   ]
  },
  {
   "cell_type": "code",
   "execution_count": 31,
   "id": "f9392586",
   "metadata": {},
   "outputs": [
    {
     "name": "stdout",
     "output_type": "stream",
     "text": [
      "     *\n",
      "    ***\n",
      "   *****\n",
      "  *******\n"
     ]
    }
   ],
   "source": [
    "n=int(input())\n",
    "mid=n+1\n",
    "temp=0\n",
    "for i in range(1,n):\n",
    "    print(' '*(mid-i)+'*'*(i*2-1))\n",
    "    \n"
   ]
  },
  {
   "cell_type": "code",
   "execution_count": 39,
   "id": "182aa44e",
   "metadata": {},
   "outputs": [
    {
     "name": "stdout",
     "output_type": "stream",
     "text": [
      "***********\n",
      " *********\n",
      "  *******\n",
      "   *****\n",
      "    ***\n",
      "     *\n"
     ]
    }
   ],
   "source": [
    "n=int(input())\n",
    "mid=''\n",
    "for i in range(n+1):\n",
    "    space1=''\n",
    "    for j in range(i):\n",
    "        space1=space1+' '\n",
    "    stars=''\n",
    "    for k in range(2*n+1-(2*i)):\n",
    "        stars=stars+'*'\n",
    "    print(space1+stars)\n"
   ]
  },
  {
   "cell_type": "code",
   "execution_count": null,
   "id": "87e7a427",
   "metadata": {},
   "outputs": [],
   "source": []
  }
 ],
 "metadata": {
  "kernelspec": {
   "display_name": "Python 3",
   "language": "python",
   "name": "python3"
  },
  "language_info": {
   "codemirror_mode": {
    "name": "ipython",
    "version": 3
   },
   "file_extension": ".py",
   "mimetype": "text/x-python",
   "name": "python",
   "nbconvert_exporter": "python",
   "pygments_lexer": "ipython3",
   "version": "3.12.2"
  }
 },
 "nbformat": 4,
 "nbformat_minor": 5
}
