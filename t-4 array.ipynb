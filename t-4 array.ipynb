{
 "cells": [
  {
   "cell_type": "code",
   "execution_count": null,
   "id": "834ff193",
   "metadata": {},
   "outputs": [
    {
     "name": "stdout",
     "output_type": "stream",
     "text": [
      "[0, 1, 2, 3, 4, 5]\n",
      "[1, 2, 3, 10, 4, 5]\n",
      "[1, 2, 3, 4, 5, 6]\n"
     ]
    }
   ],
   "source": [
    "## insert at begin and middle of array\n",
    "\n",
    "\n",
    "def insertAtBegin(arr, value):\n",
    "    arr=[value]+arr\n",
    "    return arr\n",
    "\n",
    "def insertAtMiddle(arr, value, position):\n",
    "    arr=arr[:position]+[value]+arr[position:]# [0 to 5  this is 0 to 4 index]+[value] this is at 5th index+   this will start from 6th index [5 to end this is 5 to last index]\n",
    "    return arr\n",
    "\n",
    "\n",
    "def insertAtEnd(arr, value):\n",
    "    arr=arr+[value]\n",
    "    return arr\n",
    "\n",
    "arr=[1,2,3,4,5]\n",
    "print(insertAtBegin(arr, 0))\n",
    "print(insertAtMiddle(arr, 10, 3))\n",
    "print(insertAtEnd(arr, 6))"
   ]
  },
  {
   "cell_type": "code",
   "execution_count": 2,
   "id": "b5e95bcc",
   "metadata": {},
   "outputs": [
    {
     "data": {
      "text/plain": [
       "[453, 534]"
      ]
     },
     "execution_count": 2,
     "metadata": {},
     "output_type": "execute_result"
    }
   ],
   "source": [
    "## delete from end in array\n",
    "\n",
    "def deleteend(arr):\n",
    "    if len(arr)<=1:\n",
    "        return []\n",
    "    arr=arr[:len(arr)-1]\n",
    "    return arr\n",
    "def deleteend(arr):\n",
    "    if len(arr)<=1:\n",
    "        return []\n",
    "    arr=arr[:len(arr)-1]\n",
    "    return arr\n",
    "deleteend([453,534,654])"
   ]
  },
  {
   "cell_type": "code",
   "execution_count": null,
   "id": "cd409e6c",
   "metadata": {},
   "outputs": [
    {
     "data": {
      "text/plain": [
       "'the value is at 3 index'"
      ]
     },
     "execution_count": 4,
     "metadata": {},
     "output_type": "execute_result"
    }
   ],
   "source": [
    "# searching in array for unsorted array\n",
    "def search(value, arr):\n",
    "    if len(arr)==0:\n",
    "        return \"array is empty\"\n",
    "    \n",
    "    for i in range(len(arr)):\n",
    "        if arr[i]==value:\n",
    "            return f\"the value is at {i} index\"\n",
    "    return \"element not found\"\n",
    "#### 0   1  2  3  4\n",
    "arr=[453,53,4,534,785]\n",
    "search(534, arr)"
   ]
  },
  {
   "cell_type": "code",
   "execution_count": 19,
   "id": "1955fbe8",
   "metadata": {},
   "outputs": [
    {
     "data": {
      "text/plain": [
       "4"
      ]
     },
     "execution_count": 19,
     "metadata": {},
     "output_type": "execute_result"
    }
   ],
   "source": [
    "## binary search\n",
    "\n",
    "def binarySearch(arr,low, high, value):\n",
    "    if low> high:\n",
    "        return \"no found\"\n",
    "    mid=(low+high)//2\n",
    "    if arr[mid]==value:\n",
    "        return mid\n",
    "    elif arr[mid]>value:\n",
    "        return binarySearch(arr,0,mid+1, value)\n",
    "    else:\n",
    "        return binarySearch(arr, mid, len(arr)-1, value)\n",
    "arr=sorted([45,12,78,68,1,45])\n",
    "binarySearch(arr,0,len(arr)-1,68)\n",
    "\n"
   ]
  },
  {
   "cell_type": "code",
   "execution_count": null,
   "id": "f41b78e4",
   "metadata": {},
   "outputs": [],
   "source": []
  },
  {
   "cell_type": "code",
   "execution_count": 20,
   "id": "ebbe7594",
   "metadata": {},
   "outputs": [
    {
     "data": {
      "text/plain": [
       "4994"
      ]
     },
     "execution_count": 20,
     "metadata": {},
     "output_type": "execute_result"
    }
   ],
   "source": [
    "## maxumum sum of dub array\n",
    "\n",
    "def maxsumsubarray(arr, window):\n",
    "    max_sum=sum(arr[:window])\n",
    "    max_sum_window=max_sum\n",
    "    for i in range(window,len(arr)):\n",
    "        max_sum=max_sum-arr[i-window]+arr[i]\n",
    "        max_sum_window=max(max_sum, max_sum_window)\n",
    "    \n",
    "    return max_sum_window\n",
    "\n",
    "arr=[453,124,485,1841,2544,21,2,5,6,224,448,251]\n",
    "maxsumsubarray(arr, 4)"
   ]
  },
  {
   "cell_type": "code",
   "execution_count": 2,
   "id": "68c57d51",
   "metadata": {},
   "outputs": [
    {
     "data": {
      "text/plain": [
       "{'substring': 'World',\n",
       " 'reversed': '!dlroW ,olleH',\n",
       " 'words': ['Hello', 'World!'],\n",
       " 'joined': 'Hello World!',\n",
       " 'is_palindrome': True}"
      ]
     },
     "execution_count": 2,
     "metadata": {},
     "output_type": "execute_result"
    }
   ],
   "source": [
    "# String operations\n",
    "def string_operations():\n",
    "    text = \"Hello, World!\"\n",
    "    \n",
    "    # String slicing\n",
    "    substring = text[7:12]  # \"World\"\n",
    "    \n",
    "    # String reversal\n",
    "    reversed_text = text[::-1]\n",
    "    \n",
    "    # String split\n",
    "    words = text.split(\", \")\n",
    "    \n",
    "    # String join\n",
    "    joined = \" \".join(words)\n",
    "    \n",
    "    # Check if palindrome\n",
    "    def is_palindrome(s):\n",
    "        return s == s[::-1]\n",
    "    \n",
    "    return {\n",
    "        'substring': substring,\n",
    "        'reversed': reversed_text,\n",
    "        'words': words,\n",
    "        'joined': joined,\n",
    "        'is_palindrome': is_palindrome(\"racecar\")\n",
    "    }\n",
    "string_operations()"
   ]
  },
  {
   "cell_type": "code",
   "execution_count": null,
   "id": "f0902820",
   "metadata": {},
   "outputs": [
    {
     "data": {
      "text/plain": [
       "True"
      ]
     },
     "execution_count": 1,
     "metadata": {},
     "output_type": "execute_result"
    }
   ],
   "source": [
    "## sliding window problem \n",
    "\n",
    "def findingsubset(arr, target, windowsize):\n",
    "    if len(arr)-windowsize<0:\n",
    "        return False\n",
    "    \n",
    "    left=0\n",
    "    right=len(arr)-1\n",
    "    while windowsize<=right:\n",
    "        sum1=sum(arr[left:windowsize])\n",
    "        if sum1==target:\n",
    "            return True\n",
    "        left+=1\n",
    "        windowsize+=1\n",
    "    return False\n",
    "\n",
    "arr=[1,2,3,4,5,6,7,8,9,10]\n",
    "findingsubset(arr, 9, 3)\n",
    "\n",
    "\n",
    "\n",
    "def find_contiguous_subset(arr, target, windowsize):\n",
    "    if windowsize > len(arr):\n",
    "        return False\n",
    "    \n",
    "    # initial window sum\n",
    "    curr_sum = sum(arr[:windowsize])\n",
    "    if curr_sum == target:\n",
    "        return True\n",
    "    \n",
    "    for i in range(windowsize, len(arr)):\n",
    "        curr_sum += arr[i] - arr[i-windowsize]  # slide window\n",
    "        if curr_sum == target:\n",
    "            return True\n",
    "    \n",
    "    return False\n",
    "\n",
    "\n",
    "arr = [1,2,3,4,5,6,7,8,9,10]\n",
    "print(find_contiguous_subset(arr, 9, 3))  # True (2+3+4)\n"
   ]
  },
  {
   "cell_type": "code",
   "execution_count": null,
   "id": "9d976bc6",
   "metadata": {},
   "outputs": [
    {
     "name": "stdout",
     "output_type": "stream",
     "text": [
      "0\n"
     ]
    }
   ],
   "source": [
    "def max_killed_enemies(grid):\n",
    "    if not grid or not grid[0]:\n",
    "        return 0\n",
    "    \n",
    "    m, n = len(grid), len(grid[0])\n",
    "    max_kills = 0\n",
    "\n",
    "    for i in range(m):\n",
    "        for j in range(n):\n",
    "            if grid[i][j] == '0':  # only bomb on empty cell\n",
    "                kills = 0\n",
    "                # UP\n",
    "                row = i - 1\n",
    "                while row >= 0 and grid[row][j] != 'W':\n",
    "                    if grid[row][j] == 'E':\n",
    "                        kills += 1\n",
    "                    row -= 1\n",
    "                # DOWN\n",
    "                row = i + 1\n",
    "                while row < m and grid[row][j] != 'W':\n",
    "                    if grid[row][j] == 'E':\n",
    "                        kills += 1\n",
    "                    row += 1\n",
    "                # LEFT\n",
    "                col = j - 1\n",
    "                while col >= 0 and grid[i][col] != 'W':\n",
    "                    if grid[i][col] == 'E':\n",
    "                        kills += 1\n",
    "                    col -= 1\n",
    "                # RIGHT\n",
    "                col = j + 1\n",
    "                while col < n and grid[i][col] != 'W':\n",
    "                    if grid[i][col] == 'E':\n",
    "                        kills += 1\n",
    "                    col += 1\n",
    "                max_kills = max(max_kills, kills)\n",
    "\n",
    "    return max_kills\n",
    "# -----------------------------\n",
    "# Main driver (handles input/output format)\n",
    "# -----------------------------\n",
    "if __name__ == \"__main__\":\n",
    "    rows, cols = map(int, input().split())\n",
    "    grid = [list(input().strip()) for _ in range(rows)]\n",
    "    print(max_killed_enemies(grid))\n"
   ]
  },
  {
   "cell_type": "code",
   "execution_count": null,
   "id": "771a952e",
   "metadata": {},
   "outputs": [],
   "source": [
    "from functools import lru_cache\n",
    "\n",
    "@lru_cache(maxsize=None)\n",
    "def isTransformation(s1: str, s2: str) -> bool:\n",
    "    # If both strings are equal\n",
    "    if s1 == s2:\n",
    "        return True\n",
    "    \n",
    "    # If lengths mismatch, not possible\n",
    "    if len(s1) != len(s2):\n",
    "        return False\n",
    "    \n",
    "    # Quick check: if not anagrams, can't be transformed\n",
    "    if sorted(s1) != sorted(s2):\n",
    "        return False\n",
    "\n",
    "    n = len(s1)\n",
    "\n",
    "    # Try all possible split points\n",
    "    for i in range(1, n):\n",
    "        # Case 1: No swap\n",
    "        if isTransformation(s1[:i], s2[:i]) and isTransformation(s1[i:], s2[i:]):\n",
    "            return True\n",
    "\n",
    "        # Case 2: With swap\n",
    "        if isTransformation(s1[:i], s2[-i:]) and isTransformation(s1[i:], s2[:-i]):\n",
    "            return True\n",
    "    \n",
    "    return False\n",
    "\n",
    "\n",
    "if __name__ == \"__main__\":\n",
    "    s1 = input().strip() # first string .strip() removes any leading/trailing whitespace\n",
    "    s2 = input().strip()\n",
    "    print(\"true\" if isTransformation(s1, s2) else \"false\")\n"
   ]
  },
  {
   "cell_type": "code",
   "execution_count": 1,
   "id": "1c21a606",
   "metadata": {},
   "outputs": [
    {
     "name": "stdout",
     "output_type": "stream",
     "text": [
      "[7, 4, 1]\n",
      "[8, 5, 2]\n",
      "[9, 6, 3]\n"
     ]
    }
   ],
   "source": [
    "def rotate_matrix(matrix):\n",
    "    n = len(matrix)\n",
    "\n",
    "    # Step 1: Transpose the matrix\n",
    "    for i in range(n):\n",
    "        for j in range(i + 1, n):\n",
    "            matrix[i][j], matrix[j][i] = matrix[j][i], matrix[i][j]\n",
    "\n",
    "    # Step 2: Reverse each row\n",
    "    for row in matrix:\n",
    "        row.reverse()\n",
    "\n",
    "# Example usage\n",
    "mat = [\n",
    "    [1, 2, 3],\n",
    "    [4, 5, 6],\n",
    "    [7, 8, 9]\n",
    "]\n",
    "\n",
    "rotate_matrix(mat)\n",
    "\n",
    "for row in mat:\n",
    "    print(row)"
   ]
  },
  {
   "cell_type": "code",
   "execution_count": 4,
   "id": "9c7d66b0",
   "metadata": {},
   "outputs": [
    {
     "name": "stdout",
     "output_type": "stream",
     "text": [
      "2\n"
     ]
    }
   ],
   "source": [
    "def maxkillsGrid(grid):\n",
    "    if not grid or not grid[0]:\n",
    "        return 0\n",
    "    lenrow=len(grid)\n",
    "    lencol=len(grid[0])\n",
    "    maxkills=0\n",
    "    for i in range(len(grid)):\n",
    "        for j in range(len(grid[0])):\n",
    "            if grid[i][j]==\"0\":\n",
    "                kills=0\n",
    "                rowu=i-1\n",
    "                #up\n",
    "                while rowu>=0 and grid[rowu][j]!=\"W\":\n",
    "                    if grid[rowu][j]==\"E\":\n",
    "                        kills+=1\n",
    "                    rowu-=1\n",
    "                #down\n",
    "                rowd=i+1\n",
    "                while rowd<lenrow and grid[rowd][j]!=\"W\":\n",
    "                    if grid[rowd][j]==\"E\":\n",
    "                        kills+=1\n",
    "                    rowd+=1\n",
    "                #left\n",
    "                colleft=j-1\n",
    "\n",
    "                while colleft>=0 and grid[i][colleft]!=\"W\":\n",
    "                    if grid[i][colleft]==\"E\":\n",
    "                        kills+=1\n",
    "                    colleft-=1\n",
    "                #right\n",
    "\n",
    "                colright=j+1\n",
    "                while colright<lencol and grid[i][colright]!=\"W\":\n",
    "                    if grid[i][colright]==\"E\":\n",
    "                        kills+=1\n",
    "                    colright+=1\n",
    "                maxkills=max(maxkills,kills)\n",
    "    return maxkills\n",
    "\n",
    "\n",
    "grid = [\n",
    "    [\"W\", \"0\", \"E\", \"0\", \"0\"],\n",
    "    [\"0\", \"0\", \"E\", \"W\", \"0\"],\n",
    "    [\"0\", \"W\", \"W\", \"0\", \"0\"],\n",
    "    [\"0\", \"0\", \"0\", \"0\", \"E\"]\n",
    "]\n",
    "\n",
    "print(maxkillsGrid(grid))  # Output → 3                \n",
    "\n",
    "\n"
   ]
  },
  {
   "cell_type": "code",
   "execution_count": null,
   "id": "b7e8c033",
   "metadata": {},
   "outputs": [
    {
     "data": {
      "text/plain": [
       "'a'"
      ]
     },
     "execution_count": 3,
     "metadata": {},
     "output_type": "execute_result"
    }
   ],
   "source": [
    "class Solution:\n",
    "    def longestPalindrome(self, s: str) -> str:\n",
    "        if len(s) <= 1:\n",
    "            return s\n",
    "        \n",
    "        def expand(left: int, right: int) -> str:\n",
    "            # expand outward as long as valid and palindrome\n",
    "            while left >= 0 and right < len(s) and s[left] == s[right]:\n",
    "                left -= 1\n",
    "                right += 1\n",
    "            # when loop stops, substring (left+1:right) is the palindrome\n",
    "            return s[left+1:right]\n",
    "\n",
    "        longest = \"\"\n",
    "        for i in range(len(s)):\n",
    "            # odd-length palindrome (single char center)\n",
    "            odd_pal = expand(i, i)\n",
    "            # even-length palindrome (between two chars)\n",
    "            even_pal = expand(i, i+1)\n",
    "\n",
    "            # update longest\n",
    "            if len(odd_pal) > len(longest):\n",
    "                longest = odd_pal\n",
    "            if len(even_pal) > len(longest):\n",
    "                longest = even_pal\n",
    "        \n",
    "        return longest\n",
    "stringa=input()\n",
    "lla=Solution()\n",
    "lla.longestPalindrome(stringa)"
   ]
  },
  {
   "cell_type": "code",
   "execution_count": 8,
   "id": "27539a27",
   "metadata": {},
   "outputs": [
    {
     "name": "stdout",
     "output_type": "stream",
     "text": [
      "aaaaaaaaaaaaaaaa\n"
     ]
    }
   ],
   "source": [
    "def logestPalindromestr(stringInput):\n",
    "    if not stringInput or len(stringInput)<=0:\n",
    "        return stringInput\n",
    "    def expand(left, right):\n",
    "        while left>=0 and right<len(stringInput) and stringInput[left]==stringInput[right]:\n",
    "            left-=1\n",
    "            right+=1\n",
    "        return stringInput[left+1:right]\n",
    "    longeststr=\"\"\n",
    "    for i in range(len(stringInput)):\n",
    "        odd_pal=expand(i, i)\n",
    "        even_pal=expand(i, i+1)\n",
    "        if len(odd_pal)>len(longeststr):\n",
    "            longeststr=odd_pal\n",
    "        if len(even_pal)>len(longeststr):\n",
    "            longeststr=even_pal\n",
    "    return longeststr\n",
    "\n",
    "stringInput=input()\n",
    "\n",
    "print(logestPalindromestr(stringInput))\n",
    "\n"
   ]
  },
  {
   "cell_type": "code",
   "execution_count": null,
   "id": "5f064912",
   "metadata": {},
   "outputs": [],
   "source": [
    "def merge(intervals):\n",
    "    if not intervals:\n",
    "        return []\n",
    "\n",
    "    # Step 1: Sort intervals by start time\n",
    "    intervals.sort(key=lambda x: x[0])\n",
    "\n",
    "    merged = [intervals[0]]\n",
    "\n",
    "    for current in intervals[1:]:\n",
    "        last = merged[-1]\n",
    "\n",
    "        # Case 1: Overlapping → merge\n",
    "        if current[0] <= last[1]:\n",
    "            merged[-1][1] = max(last[1], current[1])\n",
    "        else:\n",
    "            # Case 2: No overlap → add new interval\n",
    "            merged.append(current)\n",
    "\n",
    "    return merged\n",
    "\n",
    "\n",
    "# Example Usage\n",
    "intervals = [[1,3],[2,6],[8,10],[15,18]]\n",
    "print(merge(intervals))  # Output: [[1,6],[8,10],[15,18]]\n"
   ]
  },
  {
   "cell_type": "code",
   "execution_count": 9,
   "id": "ee52d21a",
   "metadata": {},
   "outputs": [
    {
     "data": {
      "text/plain": [
       "[[1, 89], [100, 45]]"
      ]
     },
     "execution_count": 9,
     "metadata": {},
     "output_type": "execute_result"
    }
   ],
   "source": [
    "def mergeIntervals(intervalsInputs):\n",
    "    if not intervals or len(intervals)<=1:\n",
    "        return intervals\n",
    "    intervals.sort(key=lambda x: x[0])\n",
    "\n",
    "    merged=[intervals[0]]\n",
    "    for current in intervals[1:]:\n",
    "        last=merged[-1]\n",
    "\n",
    "        if current[0]<=last[1]:\n",
    "            merged[-1][1]=max(last[1], current[1])\n",
    "        else:\n",
    "            merged.append(current)\n",
    "    return merged\n",
    "\n",
    "n=int(input())\n",
    "intervals=[]\n",
    "for i in range(n):\n",
    "    start, end =map(int, input().split())\n",
    "    intervals.append([start, end])\n",
    "mergeIntervals(intervals)\n"
   ]
  },
  {
   "cell_type": "code",
   "execution_count": null,
   "id": "c6405c04",
   "metadata": {},
   "outputs": [],
   "source": []
  }
 ],
 "metadata": {
  "kernelspec": {
   "display_name": "Python 3",
   "language": "python",
   "name": "python3"
  },
  "language_info": {
   "codemirror_mode": {
    "name": "ipython",
    "version": 3
   },
   "file_extension": ".py",
   "mimetype": "text/x-python",
   "name": "python",
   "nbconvert_exporter": "python",
   "pygments_lexer": "ipython3",
   "version": "3.12.2"
  }
 },
 "nbformat": 4,
 "nbformat_minor": 5
}
