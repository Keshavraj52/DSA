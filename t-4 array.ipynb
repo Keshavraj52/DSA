{
 "cells": [
  {
   "cell_type": "code",
   "execution_count": 1,
   "id": "834ff193",
   "metadata": {},
   "outputs": [
    {
     "name": "stdout",
     "output_type": "stream",
     "text": [
      "[0, 1, 2, 3, 4, 5]\n",
      "[1, 2, 3, 10, 4, 5]\n",
      "[1, 2, 3, 4, 5, 6]\n"
     ]
    }
   ],
   "source": [
    "## insert at begin and middle of array\n",
    "\n",
    "\n",
    "def insertAtBegin(arr, value):\n",
    "    arr=[value]+arr\n",
    "    return arr\n",
    "\n",
    "def insertAtMiddle(arr, value, position):\n",
    "    arr=arr[:position]+[value]+arr[position:]# [0 to 5  this is 0 to 4 index]+[value] this is at 5th index+   this will start from 6th index [5 to end this is 5 to last index]\n",
    "    return arr\n",
    "\n",
    "def insertAtEnd(arr, value):\n",
    "    arr=arr+[value]\n",
    "    return arr\n",
    "\n",
    "arr=[1,2,3,4,5]\n",
    "print(insertAtBegin(arr, 0))\n",
    "print(insertAtMiddle(arr, 10, 3))\n",
    "print(insertAtEnd(arr, 6))"
   ]
  },
  {
   "cell_type": "code",
   "execution_count": 2,
   "id": "b5e95bcc",
   "metadata": {},
   "outputs": [
    {
     "data": {
      "text/plain": [
       "[453, 534]"
      ]
     },
     "execution_count": 2,
     "metadata": {},
     "output_type": "execute_result"
    }
   ],
   "source": [
    "## delete from end in array\n",
    "\n",
    "def deleteend(arr):\n",
    "    if len(arr)<=1:\n",
    "        return []\n",
    "    arr=arr[:len(arr)-1]\n",
    "    return arr\n",
    "def deleteend(arr):\n",
    "    if len(arr)<=1:\n",
    "        return []\n",
    "    arr=arr[:len(arr)-1]\n",
    "    return arr\n",
    "deleteend([453,534,654])"
   ]
  },
  {
   "cell_type": "code",
   "execution_count": null,
   "id": "cd409e6c",
   "metadata": {},
   "outputs": [
    {
     "data": {
      "text/plain": [
       "'the value is at 3 index'"
      ]
     },
     "execution_count": 4,
     "metadata": {},
     "output_type": "execute_result"
    }
   ],
   "source": [
    "# searching in array for unsorted array\n",
    "def search(value, arr):\n",
    "    if len(arr)==0:\n",
    "        return \"array is empty\"\n",
    "    \n",
    "    for i in range(len(arr)):\n",
    "        if arr[i]==value:\n",
    "            return f\"the value is at {i} index\"\n",
    "    return \"element not found\"\n",
    "#### 0   1  2  3  4\n",
    "arr=[453,53,4,534,785]\n",
    "search(534, arr)"
   ]
  },
  {
   "cell_type": "code",
   "execution_count": null,
   "id": "1955fbe8",
   "metadata": {},
   "outputs": [],
   "source": []
  }
 ],
 "metadata": {
  "kernelspec": {
   "display_name": "Python 3",
   "language": "python",
   "name": "python3"
  },
  "language_info": {
   "codemirror_mode": {
    "name": "ipython",
    "version": 3
   },
   "file_extension": ".py",
   "mimetype": "text/x-python",
   "name": "python",
   "nbconvert_exporter": "python",
   "pygments_lexer": "ipython3",
   "version": "3.12.2"
  }
 },
 "nbformat": 4,
 "nbformat_minor": 5
}
