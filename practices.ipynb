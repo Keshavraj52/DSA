{
 "cells": [
  {
   "cell_type": "code",
   "execution_count": null,
   "id": "42d29e18",
   "metadata": {},
   "outputs": [],
   "source": [
    "#reverse string\n",
    "import sys\n",
    "def reverse_string(s):\n",
    "    return s[::-1]  "
   ]
  },
  {
   "cell_type": "code",
   "execution_count": 7,
   "id": "af259f2b",
   "metadata": {},
   "outputs": [
    {
     "data": {
      "text/plain": [
       "[453, 534, 543, 622, 5453, 54165]"
      ]
     },
     "execution_count": 7,
     "metadata": {},
     "output_type": "execute_result"
    }
   ],
   "source": [
    "# selection sort\n",
    "def selectionSort(arrayInput):\n",
    "    if len(arrayInput)<=1:\n",
    "        return arrayInput\n",
    "    \n",
    "    for integer in range(len(arrayInput)):\n",
    "        min_index=integer\n",
    "        for element in range(integer+1, len(arrayInput)):\n",
    "            if arrayInput[element]<arrayInput[min_index]:\n",
    "                min_index=element \n",
    "        arrayInput[min_index], arrayInput[integer]=arrayInput[integer], arrayInput[min_index]\n",
    "    return arrayInput\n",
    "\n",
    "arrayInput=list(map(int, input().split()))\n",
    "\n",
    "selectionSort(arrayInput)\n",
    "\n",
    "\n"
   ]
  },
  {
   "cell_type": "code",
   "execution_count": null,
   "id": "1a380f92",
   "metadata": {},
   "outputs": [
    {
     "name": "stdout",
     "output_type": "stream",
     "text": [
      "[54, 453, 534, 542, 542, 554]\n"
     ]
    }
   ],
   "source": [
    "# bubble sort\n",
    "def bubbleSort(arrayInput):\n",
    "    if len(arrayInput)<=1:\n",
    "        return arrayInput\n",
    "    \n",
    "    for firstIteration in range(len(arrayInput)):\n",
    "        swap=False\n",
    "        for secondIteration in range(len(arrayInput)-1-firstIteration):\n",
    "            if arrayInput[secondIteration]>arrayInput[secondIteration+1]:\n",
    "                arrayInput[secondIteration], arrayInput[secondIteration+1]=arrayInput[secondIteration+1], arrayInput[secondIteration]\n",
    "                swap=True\n",
    "        if not swap:\n",
    "            return arrayInput\n",
    "    \n",
    "    return arrayInput\n",
    "arrayInput=list(map(int, input().split()))\n",
    "\n",
    "print(bubbleSort(arrayInput))\n"
   ]
  },
  {
   "cell_type": "code",
   "execution_count": 11,
   "id": "d6a8304b",
   "metadata": {},
   "outputs": [
    {
     "name": "stdout",
     "output_type": "stream",
     "text": [
      "[54, 453, 534, 543, 552, 554, 665]\n"
     ]
    }
   ],
   "source": [
    "# merge sort\n",
    "\n",
    "def divideConquer(arrayInput):\n",
    "    if len(arrayInput)<=1:\n",
    "        return arrayInput\n",
    "    midIndex=len(arrayInput)//2\n",
    "    leftArray=divideConquer(arrayInput[:midIndex])\n",
    "    rightArray=divideConquer(arrayInput[midIndex:])\n",
    "\n",
    "    return mergeArray(leftArray, rightArray)\n",
    "def mergeArray(leftArray, rightArray):\n",
    "    resultArray=[]\n",
    "    leftPointer=0\n",
    "    rightPointer=0\n",
    "    while len(leftArray)>leftPointer and len(rightArray)>rightPointer:\n",
    "        if leftArray[leftPointer]<rightArray[rightPointer]:\n",
    "            resultArray.append(leftArray[leftPointer])\n",
    "            leftPointer+=1\n",
    "        else:\n",
    "            resultArray.append(rightArray[rightPointer])\n",
    "            rightPointer+=1\n",
    "    resultArray.extend(rightArray[rightPointer:])\n",
    "    resultArray.extend(leftArray[leftPointer:])\n",
    "    return resultArray\n",
    "\n",
    "arrayInput=list(map(int, input().split()))\n",
    "\n",
    "print(divideConquer(arrayInput))\n",
    "\n"
   ]
  },
  {
   "cell_type": "code",
   "execution_count": null,
   "id": "7ec2c9a3",
   "metadata": {},
   "outputs": [
    {
     "name": "stdout",
     "output_type": "stream",
     "text": [
      "[2, 54, 54, 453, 512, 534, 542, 4535422]\n"
     ]
    }
   ],
   "source": [
    "#quick sort\n",
    "\n",
    "def quickSort(arrayInput):\n",
    "    if len(arrayInput)<=1:\n",
    "        return arrayInput\n",
    "    leftArray=[]\n",
    "    rightArray=[]\n",
    "    pivot=arrayInput[-1]\n",
    "    for integer in range(len(arrayInput)-1):\n",
    "        if pivot>arrayInput[integer]:\n",
    "            leftArray.append(arrayInput[integer])\n",
    "        else:\n",
    "            rightArray.append(arrayInput[integer])\n",
    "    return quickSort(leftArray)+[pivot]+quickSort(rightArray)\n",
    "arrayInput=list(map(int, input().split()))\n",
    "print(quickSort(arrayInput))\n",
    "\n",
    "\n",
    "import random\n",
    "pivot = arrayInput[random.randint(0, len(arrayInput) - 1)]"
   ]
  },
  {
   "cell_type": "code",
   "execution_count": null,
   "id": "58fa1d86",
   "metadata": {},
   "outputs": [],
   "source": [
    "# insertion sort\n",
    "\n",
    "def insertionSort(arrayInput):\n",
    "    if len(arrayInput) <= 1:\n",
    "        return arrayInput\n",
    "\n",
    "    for i in range(1, len(arrayInput)):\n",
    "        key = arrayInput[i]\n",
    "        j = i - 1\n",
    "        while j >= 0 and arrayInput[j] > key:\n",
    "            arrayInput[j + 1] = arrayInput[j]\n",
    "            j -= 1\n",
    "        arrayInput[j + 1] = key\n",
    "\n",
    "    return arrayInput\n",
    "\n",
    "# Input handling for company test environments (no prompt)\n",
    "arrayInput = list(map(int, input().split()))\n",
    "print(insertionSort(arrayInput))"
   ]
  }
 ],
 "metadata": {
  "kernelspec": {
   "display_name": "Python 3",
   "language": "python",
   "name": "python3"
  },
  "language_info": {
   "codemirror_mode": {
    "name": "ipython",
    "version": 3
   },
   "file_extension": ".py",
   "mimetype": "text/x-python",
   "name": "python",
   "nbconvert_exporter": "python",
   "pygments_lexer": "ipython3",
   "version": "3.12.2"
  }
 },
 "nbformat": 4,
 "nbformat_minor": 5
}
