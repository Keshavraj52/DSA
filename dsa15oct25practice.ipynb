{
 "cells": [
  {
   "cell_type": "code",
   "execution_count": 3,
   "id": "d641a049",
   "metadata": {},
   "outputs": [
    {
     "data": {
      "text/plain": [
       "[1, 2, 5, 21, 54, 65, 453]"
      ]
     },
     "execution_count": 3,
     "metadata": {},
     "output_type": "execute_result"
    }
   ],
   "source": [
    "# selection sort\n",
    "def selectionSort(arrayInput):\n",
    "    if len(arrayInput)<=1:\n",
    "        return arrayInput\n",
    "    for i in range(len(arrayInput)):\n",
    "        min_index=i   #[12,54,5,8,78,54]\n",
    "        for j in range(i, len(arrayInput)):\n",
    "            if arrayInput[j]<arrayInput[min_index]:\n",
    "                min_index=j\n",
    "        arrayInput[min_index], arrayInput[i]=arrayInput[i], arrayInput[min_index]\n",
    "\n",
    "    return arrayInput\n",
    "arrayInput=[453,54,65,21,5,1,2]\n",
    "selectionSort(arrayInput)\n",
    "\n"
   ]
  },
  {
   "cell_type": "code",
   "execution_count": null,
   "id": "e760f379",
   "metadata": {},
   "outputs": [
    {
     "data": {
      "text/plain": [
       "[6, 21, 24, 54, 82, 215, 453, 534, 543]"
      ]
     },
     "execution_count": 4,
     "metadata": {},
     "output_type": "execute_result"
    }
   ],
   "source": [
    "# bubble sort\n",
    "def bubbleSort(arrayInput):\n",
    "    if len(arrayInput)<=1:\n",
    "        return arrayInput\n",
    "    for i in range(len(arrayInput)):\n",
    "        swap=False\n",
    "        for j in range(len(arrayInput)-1-i):\n",
    "            if arrayInput[j]>arrayInput[j+1]:\n",
    "                arrayInput[j], arrayInput[j+1]=arrayInput[j+1], arrayInput[j]\n",
    "                swap=True\n",
    "        if not swap:\n",
    "            return arrayInput\n",
    "    return arrayInput\n",
    "arrayInput=[453,534,543,215,24,82,6,21,54]\n",
    "print(bubbleSort(arrayInput))\n",
    "    "
   ]
  },
  {
   "cell_type": "code",
   "execution_count": 5,
   "id": "eb7c61e2",
   "metadata": {},
   "outputs": [
    {
     "data": {
      "text/plain": [
       "[32, 54, 54, 95, 313, 453, 654, 654, 871, 6546]"
      ]
     },
     "execution_count": 5,
     "metadata": {},
     "output_type": "execute_result"
    }
   ],
   "source": [
    "# merge sort\n",
    "\n",
    "def divCon(arrayInput):\n",
    "    if len(arrayInput)<=1:\n",
    "        return arrayInput\n",
    "    mid=len(arrayInput)//2\n",
    "    right=divCon(arrayInput[mid:])\n",
    "    left=divCon(arrayInput[:mid])\n",
    "    return merge(left, right)\n",
    "def merge(left, right):\n",
    "    leftPointer=0\n",
    "    rightPointer=0\n",
    "    result=[]\n",
    "    while len(left)>leftPointer and len(right)>rightPointer:\n",
    "        if left[leftPointer]<right[rightPointer]:\n",
    "            result.append(left[leftPointer])\n",
    "            leftPointer+=1\n",
    "        else:\n",
    "            result.append(right[rightPointer])\n",
    "            rightPointer+=1\n",
    "    result.extend(left[leftPointer:])\n",
    "    result.extend(right[rightPointer:])\n",
    "    return result\n",
    "\n",
    "arrayInput=[453,54,871,95,32,654,313,6546,54,654]\n",
    "divCon(arrayInput)"
   ]
  },
  {
   "cell_type": "code",
   "execution_count": 26,
   "id": "87467a0e",
   "metadata": {},
   "outputs": [
    {
     "data": {
      "text/plain": [
       "[4, 5, 21, 35, 45, 54, 64, 64, 84, 564, 3432, 65464]"
      ]
     },
     "execution_count": 26,
     "metadata": {},
     "output_type": "execute_result"
    }
   ],
   "source": [
    "# quick sort\n",
    "import numpy as np\n",
    "def quickSort(arrayInput):\n",
    "    if len(arrayInput)<=1:\n",
    "        return arrayInput\n",
    "    pivotIndex=np.random.randint(len(arrayInput))\n",
    "    pivot=arrayInput[pivotIndex]    \n",
    "    right=[]\n",
    "    left=[]\n",
    "    for i, val in enumerate(arrayInput):\n",
    "        if i==pivotIndex:\n",
    "            continue\n",
    "        if arrayInput[i]<pivot:\n",
    "            left.append(arrayInput[i])\n",
    "        else:\n",
    "            right.append(arrayInput[i])\n",
    "    return quickSort(left)+[pivot]+quickSort(right)\n",
    "\n",
    "arrayInput=[45,54,35,64,21,84,4,65464,564,64,5,3432]\n",
    "quickSort(arrayInput)\n"
   ]
  },
  {
   "cell_type": "code",
   "execution_count": null,
   "id": "18f1bca4",
   "metadata": {},
   "outputs": [],
   "source": []
  }
 ],
 "metadata": {
  "kernelspec": {
   "display_name": "Python 3",
   "language": "python",
   "name": "python3"
  },
  "language_info": {
   "codemirror_mode": {
    "name": "ipython",
    "version": 3
   },
   "file_extension": ".py",
   "mimetype": "text/x-python",
   "name": "python",
   "nbconvert_exporter": "python",
   "pygments_lexer": "ipython3",
   "version": "3.12.2"
  }
 },
 "nbformat": 4,
 "nbformat_minor": 5
}
