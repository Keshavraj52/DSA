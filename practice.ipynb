{
 "cells": [
  {
   "cell_type": "code",
   "execution_count": null,
   "id": "14e09029",
   "metadata": {},
   "outputs": [
    {
     "name": "stdout",
     "output_type": "stream",
     "text": [
      "Smallest number is: 1\n",
      "Largest number is: 10\n"
     ]
    }
   ],
   "source": [
    "## finding the smallest and largest element in the array\n",
    "\n",
    "def large_small(s):\n",
    "    if len(s) == 0:\n",
    "        return None, None\n",
    "    largeno=0\n",
    "    for i in range(len(s)):\n",
    "        if s[i]>largeno:\n",
    "            largeno= s[i]\n",
    "    smallno=largeno\n",
    "    for i in range(len(s)):\n",
    "        if s[i]<smallno:\n",
    "            smallno=s[i]\n",
    "    return smallno, largeno\n",
    "\n",
    "def small_large(s):\n",
    "    if len(s)==0:\n",
    "        return None, None\n",
    "    smallno=largeno=s[0]\n",
    "    for i in s:\n",
    "        if i < smallno:\n",
    "            smallno= i\n",
    "        if i > largeno:\n",
    "            largeno=i\n",
    "    return smallno, largeno\n",
    "s=[1, 2, 3, 4, 5, 6, 7, 8, 9, 10]\n",
    "small, large = large_small(s)\n",
    "small, large = small_large(s)\n",
    "print(\"Smallest number is:\", small)\n",
    "print(\"Largest number is:\", large)\n"
   ]
  },
  {
   "cell_type": "code",
   "execution_count": 5,
   "id": "66826f6a",
   "metadata": {},
   "outputs": [
    {
     "name": "stdout",
     "output_type": "stream",
     "text": [
      "(2, 46)\n"
     ]
    }
   ],
   "source": [
    "def sec_lrg_smal(s):\n",
    "    n=len(s)\n",
    "    if len(s)<=1:\n",
    "        return None, None\n",
    "    seclar=seclow=s[0]\n",
    "    for i in range(len(s)):\n",
    "        for j in range(i+1, len(s)):\n",
    "            if s[i]>s[j]:\n",
    "                s[i],s[j]=s[j],s[i]\n",
    "    return s[1],s[n-2]\n",
    "s=[1, 2, 13, 4, 45, 46, 7, 58, 9, 10]\n",
    "\n",
    "result=sec_lrg_smal(s)\n",
    "\n",
    "print(result)"
   ]
  },
  {
   "cell_type": "code",
   "execution_count": 6,
   "id": "33fc4bea",
   "metadata": {},
   "outputs": [
    {
     "name": "stdout",
     "output_type": "stream",
     "text": [
      "Reversed array is: [10, 9, 8, 7, 6, 5, 4, 3, 2, 1]\n"
     ]
    }
   ],
   "source": [
    "def reverse(s):\n",
    "    left=0\n",
    "    right=len(s)-1\n",
    "    while left<right:\n",
    "        s[left],s[right]=s[right],s[left]\n",
    "        right-=1\n",
    "        left+=1\n",
    "    return s\n",
    "\n",
    "s = [1, 2, 3, 4, 5, 6, 7, 8, 9, 10]\n",
    "reversed_s = reverse(s) \n",
    "print(\"Reversed array is:\", reversed_s)\n",
    "    \n"
   ]
  },
  {
   "cell_type": "code",
   "execution_count": 23,
   "id": "18d72090",
   "metadata": {},
   "outputs": [
    {
     "name": "stdout",
     "output_type": "stream",
     "text": [
      "[0, 0, 0, 0, 2, 6, 4, 8, 9, 10]\n"
     ]
    }
   ],
   "source": [
    "def all_zero_end(s):\n",
    "    for i in range(len(s)):\n",
    "        for j in range(i+1,len(s)):\n",
    "            if s[i]==0:\n",
    "                continue\n",
    "            if s[j]==0:\n",
    "                s[i],s[j]=s[j],s[i]\n",
    "    return s\n",
    "\n",
    "\n",
    "\n",
    "\n",
    "s = [0, 2, 0, 4, 0, 6, 0, 8, 9, 10]\n",
    "result=all_zero_end(s)\n",
    "print(result)"
   ]
  },
  {
   "cell_type": "code",
   "execution_count": null,
   "id": "7e829683",
   "metadata": {},
   "outputs": [
    {
     "name": "stdout",
     "output_type": "stream",
     "text": [
      "[2, 0, 4, 0, 6, 0, 8, 9, 10, 0]\n"
     ]
    }
   ],
   "source": []
  },
  {
   "cell_type": "code",
   "execution_count": 28,
   "id": "04f67df7",
   "metadata": {},
   "outputs": [
    {
     "name": "stdout",
     "output_type": "stream",
     "text": [
      "[2, 4, 6, 8, 9, 10, 0, 0, 0, 0]\n"
     ]
    }
   ],
   "source": [
    "def all_zeros_end(s):\n",
    "    count=0\n",
    "    for i in range(len(s)):\n",
    "        if s[i] !=0:\n",
    "            s[count]=s[i]\n",
    "            count+=1\n",
    "    while count<len(s):\n",
    "        s[count]=0\n",
    "        count+=1\n",
    "    return s\n",
    "s = [0, 2, 0, 4, 0, 6, 0, 8, 9, 10]\n",
    "\n",
    "result=all_zeros_end(s)\n",
    "print(result)"
   ]
  },
  {
   "cell_type": "code",
   "execution_count": 11,
   "id": "83f8ab47",
   "metadata": {},
   "outputs": [
    {
     "data": {
      "text/plain": [
       "'543-----))4530-----))453-----))'"
      ]
     },
     "execution_count": 11,
     "metadata": {},
     "output_type": "execute_result"
    }
   ],
   "source": [
    "### practice linked list\n",
    "\n",
    "class Node:\n",
    "    def __init__(self, data=None, next=None):\n",
    "        self.data=data \n",
    "        self.next=next\n",
    "class linkedlist:\n",
    "    def __init__(self):\n",
    "        self.head=None\n",
    "    def insertatbig(self, data):\n",
    "        node=Node(data, self.head)\n",
    "        self.head=node\n",
    "    def insertatend(self, data):\n",
    "        if self.head is None:\n",
    "            node=Node(data, self.head)\n",
    "            self.head=node\n",
    "        itr=self.head\n",
    "        while itr.next:\n",
    "            itr=itr.next\n",
    "        itr.next=Node(data, itr.next)\n",
    "    def lengthoflist(self):\n",
    "        if self.head is None:\n",
    "            return 0\n",
    "        itr=self.head\n",
    "        count=0\n",
    "        while itr:\n",
    "            count+=1\n",
    "            itr =itr.next\n",
    "        return count\n",
    "    def insertatpos(self,index,data):\n",
    "        if index<0 or index>self.lengthoflist():\n",
    "            raise Exception(' invalid index')\n",
    "        if index==0:\n",
    "            self.insertatbig(data)\n",
    "            return\n",
    "        if index==self.lengthoflist():\n",
    "            self.insertatend(data)\n",
    "            return\n",
    "        itr=self.head\n",
    "        count=0\n",
    "        while itr:\n",
    "            if count==index-1:\n",
    "                node=Node(data, itr.next)\n",
    "                itr.next=node\n",
    "                break\n",
    "            count+=1\n",
    "            itr=itr.next\n",
    "    def removeatpos(self, index):\n",
    "        if index<0 or index>self.lengthoflist():\n",
    "            raise Exception('invalid index')\n",
    "        if index==0:\n",
    "            self.head=self.head.next\n",
    "            return\n",
    "        count=0\n",
    "        itr=self.head\n",
    "        while itr:\n",
    "            if count== index-1:\n",
    "                itr.next=itr.next.next\n",
    "                break\n",
    "            itr=itr.next\n",
    "            count+=1\n",
    "    def print(self):\n",
    "        if self.head is None:\n",
    "            return 'list is empty'\n",
    "        itr=self.head\n",
    "        llstr=''\n",
    "        while itr:\n",
    "            llstr+=str(itr.data)+'-----))'\n",
    "            itr=itr.next\n",
    "        return llstr\n",
    "\n",
    "lla=linkedlist()\n",
    "lla.insertatbig(4530)\n",
    "lla.insertatbig(45322)\n",
    "lla.insertatbig(543)\n",
    "lla.insertatend(453)\n",
    "lla.lengthoflist()\n",
    "lla.print()\n",
    "lla.removeatpos(1)\n",
    "lla.print()\n",
    "\n",
    "\n",
    "\n"
   ]
  },
  {
   "cell_type": "code",
   "execution_count": null,
   "id": "f81ed40f",
   "metadata": {},
   "outputs": [],
   "source": []
  }
 ],
 "metadata": {
  "kernelspec": {
   "display_name": "Python 3",
   "language": "python",
   "name": "python3"
  },
  "language_info": {
   "codemirror_mode": {
    "name": "ipython",
    "version": 3
   },
   "file_extension": ".py",
   "mimetype": "text/x-python",
   "name": "python",
   "nbconvert_exporter": "python",
   "pygments_lexer": "ipython3",
   "version": "3.12.2"
  }
 },
 "nbformat": 4,
 "nbformat_minor": 5
}
