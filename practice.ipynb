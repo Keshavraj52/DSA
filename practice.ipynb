{
 "cells": [
  {
   "cell_type": "code",
   "execution_count": null,
   "id": "14e09029",
   "metadata": {},
   "outputs": [
    {
     "name": "stdout",
     "output_type": "stream",
     "text": [
      "Smallest number is: 1\n",
      "Largest number is: 10\n"
     ]
    }
   ],
   "source": [
    "## finding the smallest and largest element in the array\n",
    "\n",
    "def large_small(s):\n",
    "    if len(s) == 0:\n",
    "        return None, None\n",
    "    largeno=0\n",
    "    for i in range(len(s)):\n",
    "        if s[i]>largeno:\n",
    "            largeno= s[i]\n",
    "    smallno=largeno\n",
    "    for i in range(len(s)):\n",
    "        if s[i]<smallno:\n",
    "            smallno=s[i]\n",
    "    return smallno, largeno\n",
    "\n",
    "def small_large(s):\n",
    "    if len(s)==0:\n",
    "        return None, None\n",
    "    smallno=largeno=s[0]\n",
    "    for i in s:\n",
    "        if i < smallno:\n",
    "            smallno= i\n",
    "        if i > largeno:\n",
    "            largeno=i\n",
    "    return smallno, largeno\n",
    "s=[1, 2, 3, 4, 5, 6, 7, 8, 9, 10]\n",
    "small, large = large_small(s)\n",
    "small, large = small_large(s)\n",
    "print(\"Smallest number is:\", small)\n",
    "print(\"Largest number is:\", large)\n"
   ]
  },
  {
   "cell_type": "code",
   "execution_count": 5,
   "id": "66826f6a",
   "metadata": {},
   "outputs": [
    {
     "name": "stdout",
     "output_type": "stream",
     "text": [
      "(2, 46)\n"
     ]
    }
   ],
   "source": [
    "def sec_lrg_smal(s):\n",
    "    n=len(s)\n",
    "    if len(s)<=1:\n",
    "        return None, None\n",
    "    seclar=seclow=s[0]\n",
    "    for i in range(len(s)):\n",
    "        for j in range(i+1, len(s)):\n",
    "            if s[i]>s[j]:\n",
    "                s[i],s[j]=s[j],s[i]\n",
    "    return s[1],s[n-2]\n",
    "s=[1, 2, 13, 4, 45, 46, 7, 58, 9, 10]\n",
    "\n",
    "result=sec_lrg_smal(s)\n",
    "\n",
    "print(result)"
   ]
  },
  {
   "cell_type": "code",
   "execution_count": 6,
   "id": "33fc4bea",
   "metadata": {},
   "outputs": [
    {
     "name": "stdout",
     "output_type": "stream",
     "text": [
      "Reversed array is: [10, 9, 8, 7, 6, 5, 4, 3, 2, 1]\n"
     ]
    }
   ],
   "source": [
    "def reverse(s):\n",
    "    left=0\n",
    "    right=len(s)-1\n",
    "    while left<right:\n",
    "        s[left],s[right]=s[right],s[left]\n",
    "        right-=1\n",
    "        left+=1\n",
    "    return s\n",
    "\n",
    "s = [1, 2, 3, 4, 5, 6, 7, 8, 9, 10]\n",
    "reversed_s = reverse(s) \n",
    "print(\"Reversed array is:\", reversed_s)\n",
    "    \n"
   ]
  },
  {
   "cell_type": "code",
   "execution_count": 23,
   "id": "18d72090",
   "metadata": {},
   "outputs": [
    {
     "name": "stdout",
     "output_type": "stream",
     "text": [
      "[0, 0, 0, 0, 2, 6, 4, 8, 9, 10]\n"
     ]
    }
   ],
   "source": [
    "def all_zero_end(s):\n",
    "    for i in range(len(s)):\n",
    "        for j in range(i+1,len(s)):\n",
    "            if s[i]==0:\n",
    "                continue\n",
    "            if s[j]==0:\n",
    "                s[i],s[j]=s[j],s[i]\n",
    "    return s\n",
    "\n",
    "\n",
    "\n",
    "\n",
    "s = [0, 2, 0, 4, 0, 6, 0, 8, 9, 10]\n",
    "result=all_zero_end(s)\n",
    "print(result)"
   ]
  },
  {
   "cell_type": "code",
   "execution_count": null,
   "id": "7e829683",
   "metadata": {},
   "outputs": [
    {
     "name": "stdout",
     "output_type": "stream",
     "text": [
      "[2, 0, 4, 0, 6, 0, 8, 9, 10, 0]\n"
     ]
    }
   ],
   "source": []
  },
  {
   "cell_type": "code",
   "execution_count": 28,
   "id": "04f67df7",
   "metadata": {},
   "outputs": [
    {
     "name": "stdout",
     "output_type": "stream",
     "text": [
      "[2, 4, 6, 8, 9, 10, 0, 0, 0, 0]\n"
     ]
    }
   ],
   "source": [
    "def all_zeros_end(s):\n",
    "    count=0\n",
    "    for i in range(len(s)):\n",
    "        if s[i] !=0:\n",
    "            s[count]=s[i]\n",
    "            count+=1\n",
    "    while count<len(s):\n",
    "        s[count]=0\n",
    "        count+=1\n",
    "    return s\n",
    "s = [0, 2, 0, 4, 0, 6, 0, 8, 9, 10]\n",
    "\n",
    "result=all_zeros_end(s)\n",
    "print(result)"
   ]
  },
  {
   "cell_type": "code",
   "execution_count": null,
   "id": "83f8ab47",
   "metadata": {},
   "outputs": [],
   "source": []
  }
 ],
 "metadata": {
  "kernelspec": {
   "display_name": "Python 3",
   "language": "python",
   "name": "python3"
  },
  "language_info": {
   "codemirror_mode": {
    "name": "ipython",
    "version": 3
   },
   "file_extension": ".py",
   "mimetype": "text/x-python",
   "name": "python",
   "nbconvert_exporter": "python",
   "pygments_lexer": "ipython3",
   "version": "3.12.2"
  }
 },
 "nbformat": 4,
 "nbformat_minor": 5
}
