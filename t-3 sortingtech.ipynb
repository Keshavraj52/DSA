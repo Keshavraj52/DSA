{
 "cells": [
  {
   "cell_type": "code",
   "execution_count": null,
   "id": "1cf8ba71",
   "metadata": {},
   "outputs": [
    {
     "data": {
      "text/plain": [
       "[32, 42, 53, 1234, 4424]"
      ]
     },
     "execution_count": 23,
     "metadata": {},
     "output_type": "execute_result"
    }
   ],
   "source": [
    "# title: selection sort algorithm implementation\n",
    "# Author: keshavraj Pore\n",
    "# description: this code is for sorting array and the time complexity is O(n^2) and space complexity is O(1). \n",
    "\n",
    "class SortingArray:\n",
    "    def __init__(self, arr=[]):\n",
    "        self.arr=arr\n",
    "\n",
    "    def selectionSort(self):\n",
    "        if len(self.arr)<=1:\n",
    "            return self.arr\n",
    "        for i in range(len(self.arr)):\n",
    "            min_index=i\n",
    "            for j in range(i+1,len(self.arr)):\n",
    "                if self.arr[j]<self.arr[min_index]:\n",
    "                    min_index=j\n",
    "            self.arr[i], self.arr[min_index]=self.arr[min_index], self.arr[i]\n",
    "        return self.arr\n",
    "    \n",
    "    def bubbleSort(self):\n",
    "        for i in range(len(self.arr)):\n",
    "            swap=False\n",
    "            for j in range(len(self.arr)-i-1):\n",
    "                if self.arr[j]>self.arr[j+1]:\n",
    "                    self.arr[j], self.arr[j+1]=self.arr[j+1], self.arr[j]\n",
    "                    swap=True\n",
    "            if not swap:\n",
    "                break\n",
    "            \n",
    "              \n",
    "        return self.arr\n",
    "    \n",
    "arr=[1234,32,42,53,4424]\n",
    "SortClass=SortingArray(arr)\n",
    "#SortClass.bubbleSort()\n",
    "SortClass.selectionSort()\n"
   ]
  },
  {
   "cell_type": "code",
   "execution_count": null,
   "id": "3c730e7e",
   "metadata": {},
   "outputs": [
    {
     "name": "stdout",
     "output_type": "stream",
     "text": [
      "[32, 42, 53, 1234, 4424]\n",
      "[32, 42, 53, 1234, 4424]\n"
     ]
    }
   ],
   "source": [
    "\n",
    "# title: selection sort algorithm implementation\n",
    "# Athor: keshavraj Pore\n",
    "# description: this code is for sorting array and the time complexity is O(n^2) and space complexity is O(1). \n",
    "\n",
    "class SortingArray:\n",
    "    def __init__(self,arr):\n",
    "        self.arr=arr\n",
    "\n",
    "    def selectionSort(self, arr):\n",
    "        if len(self.arr)<=1:\n",
    "            return self.arr\n",
    "        for i in range(len(self.arr)):\n",
    "            min_index=i\n",
    "            for j in range(i+1 ,len(self.arr)):\n",
    "                if self.arr[min_index]>self.arr[j]:\n",
    "                    min_index=j\n",
    "            self.arr[min_index], self.arr[i]=self.arr[i], self.arr[min_index]\n",
    "        return self.arr\n",
    "    \n",
    "    def bubbleSort(self,arr):\n",
    "        for i in range(len(self.arr)):\n",
    "            swap=0\n",
    "            for j in range(len(arr)-i-1):\n",
    "                if self.arr[j]>self.arr[j+1]:\n",
    "                    self.arr[j], self.arr[j+1]=self.arr[j+1], self.arr[j]\n",
    "                    swap+=1\n",
    "            if swap==0:\n",
    "                return self.arr    \n",
    "        return self.arr\n",
    "    \n",
    "arr=[1234,32,42,53,4424]\n",
    "SortClass=SortingArray(arr)\n",
    "\n",
    "print(SortClass.bubbleSort(arr))\n",
    "print(SortClass.selectionSort(arr))"
   ]
  },
  {
   "cell_type": "code",
   "execution_count": null,
   "id": "1eb64c85",
   "metadata": {},
   "outputs": [
    {
     "name": "stdout",
     "output_type": "stream",
     "text": [
      "[0, 1, 2, 3, 4, 5]\n",
      "[1, 2, 3, 10, 4, 5]\n",
      "[1, 2, 3, 4, 5, 6]\n"
     ]
    }
   ],
   "source": []
  },
  {
   "cell_type": "code",
   "execution_count": 5,
   "id": "8df824c2",
   "metadata": {},
   "outputs": [
    {
     "name": "stdout",
     "output_type": "stream",
     "text": [
      "[32, 42, 53, 1234, 4424]\n"
     ]
    }
   ],
   "source": [
    "# title: selection sort algorithm implementation\n",
    "# Athor: keshavraj Pore\n",
    "# description: this code is for sorting array and the time complexity is O(n^2) and space complexity is O(1). \n",
    "\n",
    "class SortingArray:\n",
    "    #\n",
    "\n",
    "    def selectionSort(self, arr):\n",
    "        if len(self.arr)<=1:\n",
    "            return self.arr\n",
    "        for i in range(len(self.arr)):\n",
    "            min_index=i\n",
    "            for j in range(len(self.arr)):\n",
    "                if self.arr[i]<self.arr[j]:\n",
    "                    min_index=j\n",
    "                self.arr[i], self.arr[j]=self.arr[j], self.arr[i]\n",
    "        return self.arr\n",
    "    \n",
    "    def bubbleSort(self,arr):\n",
    "        for i in range(len(self.arr)):\n",
    "            swap=0\n",
    "            for j in range(len(arr)-i-1):\n",
    "                if self.arr[j]<self.arr[i]:\n",
    "                    self.arr[j], self.arr[i]=self.arr[i], self.arr[j]\n",
    "                    swap+=1\n",
    "            if swap==0:\n",
    "                return self.arr    \n",
    "        return self.arr\n",
    "    def insertionSort(self, arr):\n",
    "        if len(arr)<=1:\n",
    "            return arr\n",
    "        for i in range(len(arr)):\n",
    "            key=arr[i]\n",
    "            j=i-1\n",
    "            while j>=0 and arr[j]>key:\n",
    "                arr[j+1]=arr[j]\n",
    "                j-=1\n",
    "            arr[j+1]=key\n",
    "        return arr\n",
    "\n",
    "\n",
    "    \n",
    "arr=[1234,32,42,53,4424]\n",
    "SortClass=SortingArray()\n",
    "\n",
    "print(SortClass.insertionSort(arr))\n"
   ]
  },
  {
   "cell_type": "code",
   "execution_count": null,
   "id": "04bb3425",
   "metadata": {},
   "outputs": [],
   "source": [
    "import math\n",
    "from collections import Counter\n",
    "\n",
    "MOD = 10**9 + 7 # A large prime number for modulo operations\n",
    "\n",
    "def word_permutations(word):\n",
    "    n = len(word)\n",
    "    freq = Counter(word)\n",
    "    res = math.factorial(n)\n",
    "    for f in freq.values():\n",
    "        res //= math.factorial(f)\n",
    "    return res % MOD\n",
    "\n",
    "def count_sentence_permutations(s):\n",
    "    words = s.split()\n",
    "    ans = 1\n",
    "    for w in words:\n",
    "        ans = (ans * word_permutations(w)) % MOD\n",
    "    return ans\n",
    "\n",
    "# ----------------\n",
    "# Driver\n",
    "# ----------------\n",
    "s = input().strip()\n",
    "print(count_sentence_permutations(s))\n"
   ]
  },
  {
   "cell_type": "code",
   "execution_count": null,
   "id": "7b952d6a",
   "metadata": {},
   "outputs": [],
   "source": [
    "import math\n",
    "from collections import Counter\n",
    "MOD = 10**9 + 7\n",
    "\n",
    "def wordpermutation(w):\n",
    "    n= len(w)\n",
    "    freq=Counter()\n",
    "\n"
   ]
  }
 ],
 "metadata": {
  "kernelspec": {
   "display_name": "Python 3",
   "language": "python",
   "name": "python3"
  },
  "language_info": {
   "codemirror_mode": {
    "name": "ipython",
    "version": 3
   },
   "file_extension": ".py",
   "mimetype": "text/x-python",
   "name": "python",
   "nbconvert_exporter": "python",
   "pygments_lexer": "ipython3",
   "version": "3.12.2"
  }
 },
 "nbformat": 4,
 "nbformat_minor": 5
}
