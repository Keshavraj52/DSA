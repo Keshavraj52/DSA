{
 "cells": [
  {
   "cell_type": "code",
   "execution_count": null,
   "id": "1cf8ba71",
   "metadata": {},
   "outputs": [
    {
     "data": {
      "text/plain": [
       "[32, 42, 53, 1234, 4424]"
      ]
     },
     "execution_count": 23,
     "metadata": {},
     "output_type": "execute_result"
    }
   ],
   "source": [
    "# title: selection sort algorithm implementation\n",
    "# Author: keshavraj Pore\n",
    "# description: this code is for sorting array and the time complexity is O(n^2) and space complexity is O(1). \n",
    "\n",
    "class SortingArray:\n",
    "    def __init__(self, arr=[]):\n",
    "        self.arr=arr\n",
    "\n",
    "    def selectionSort(self):\n",
    "        if len(self.arr)<=1:\n",
    "            return self.arr\n",
    "        for i in range(len(self.arr)):\n",
    "            min_index=i\n",
    "            for j in range(i+1,len(self.arr)):\n",
    "                if self.arr[j]<self.arr[min_index]:\n",
    "                    min_index=j\n",
    "            self.arr[i], self.arr[min_index]=self.arr[min_index], self.arr[i]\n",
    "        return self.arr\n",
    "    \n",
    "    def bubbleSort(self):\n",
    "        for i in range(len(self.arr)):\n",
    "            swap=False\n",
    "            for j in range(len(self.arr)-i-1):\n",
    "                if self.arr[j]>self.arr[j+1]:\n",
    "                    self.arr[j], self.arr[j+1]=self.arr[j+1], self.arr[j]\n",
    "                    swap=True\n",
    "            if not swap:\n",
    "                break\n",
    "            \n",
    "              \n",
    "        return self.arr\n",
    "    \n",
    "arr=[1234,32,42,53,4424]\n",
    "SortClass=SortingArray(arr)\n",
    "#SortClass.bubbleSort()\n",
    "SortClass.selectionSort()\n"
   ]
  },
  {
   "cell_type": "code",
   "execution_count": null,
   "id": "3c730e7e",
   "metadata": {},
   "outputs": [
    {
     "name": "stdout",
     "output_type": "stream",
     "text": [
      "[32, 42, 53, 1234, 4424]\n",
      "[32, 42, 53, 1234, 4424]\n"
     ]
    }
   ],
   "source": [
    "\n",
    "# title: selection sort algorithm implementation\n",
    "# Athor: keshavraj Pore\n",
    "# description: this code is for sorting array and the time complexity is O(n^2) and space complexity is O(1). \n",
    "\n",
    "class SortingArray:\n",
    "    def __init__(self,arr):\n",
    "        self.arr=arr\n",
    "\n",
    "    def selectionSort(self, arr):\n",
    "        if len(self.arr)<=1:\n",
    "            return self.arr\n",
    "        for i in range(len(self.arr)):\n",
    "            min_index=i\n",
    "            for j in range(i+1 ,len(self.arr)):\n",
    "                if self.arr[min_index]>self.arr[j]:\n",
    "                    min_index=j\n",
    "            self.arr[min_index], self.arr[i]=self.arr[i], self.arr[min_index]\n",
    "        return self.arr\n",
    "    \n",
    "    def bubbleSort(self,arr):\n",
    "        for i in range(len(self.arr)):\n",
    "            swap=0\n",
    "            for j in range(len(arr)-i-1):\n",
    "                if self.arr[j]>self.arr[j+1]:\n",
    "                    self.arr[j], self.arr[j+1]=self.arr[j+1], self.arr[j]\n",
    "                    swap+=1\n",
    "            if swap==0:\n",
    "                return self.arr    \n",
    "        return self.arr\n",
    "    \n",
    "arr=[1234,32,42,53,4424]\n",
    "SortClass=SortingArray(arr)\n",
    "\n",
    "print(SortClass.bubbleSort(arr))\n",
    "print(SortClass.selectionSort(arr))"
   ]
  },
  {
   "cell_type": "code",
   "execution_count": null,
   "id": "1eb64c85",
   "metadata": {},
   "outputs": [
    {
     "name": "stdout",
     "output_type": "stream",
     "text": [
      "[0, 1, 2, 3, 4, 5]\n",
      "[1, 2, 3, 10, 4, 5]\n",
      "[1, 2, 3, 4, 5, 6]\n"
     ]
    }
   ],
   "source": []
  },
  {
   "cell_type": "code",
   "execution_count": null,
   "id": "8df824c2",
   "metadata": {},
   "outputs": [
    {
     "data": {
      "text/plain": [
       "[453]"
      ]
     },
     "execution_count": 14,
     "metadata": {},
     "output_type": "execute_result"
    }
   ],
   "source": []
  },
  {
   "cell_type": "code",
   "execution_count": null,
   "id": "04bb3425",
   "metadata": {},
   "outputs": [],
   "source": []
  }
 ],
 "metadata": {
  "kernelspec": {
   "display_name": "Python 3",
   "language": "python",
   "name": "python3"
  },
  "language_info": {
   "codemirror_mode": {
    "name": "ipython",
    "version": 3
   },
   "file_extension": ".py",
   "mimetype": "text/x-python",
   "name": "python",
   "nbconvert_exporter": "python",
   "pygments_lexer": "ipython3",
   "version": "3.12.2"
  }
 },
 "nbformat": 4,
 "nbformat_minor": 5
}
